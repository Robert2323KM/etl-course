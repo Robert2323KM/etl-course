{
 "cells": [
  {
   "cell_type": "markdown",
   "metadata": {},
   "source": [
    "# Tutorial: creación de ETLs incrementales con PySpark"
   ]
  },
  {
   "cell_type": "code",
   "execution_count": 1,
   "metadata": {},
   "outputs": [],
   "source": [
    "# Configuración servidor base de datos transaccional\n",
    "# Utilizar el usuario asignado en el curso\n",
    "db_user_2 = ''\n",
    "db_user = ''\n",
    "db_psswd = ''"
   ]
  },
  {
   "cell_type": "code",
   "execution_count": 2,
   "metadata": {},
   "outputs": [],
   "source": [
    "source_db_connection_string = 'jdbc:mysql://157.253.236.116:8080/WWImportersTransactional'\n",
    "\n",
    "dest_db_connection_string = 'jdbc:mysql://157.253.236.116:8080/Estudiante_67_202315'\n",
    "grupo_connection_string = 'jdbc:mysql://157.253.236.116:8080/Proyecto_G9_202315' \n",
    "\n",
    "sebas_db_connection_string = 'jdbc:mysql://157.253.236.116:8080/RaSaTransaccional_ETL'\n",
    "\n",
    "# Driver de conexion\n",
    "path_jar_driver = 'C:\\Program Files (x86)\\MySQL\\Connector J 8.0\\mysql-connector-java-8.0.28.jar'"
   ]
  },
  {
   "cell_type": "code",
   "execution_count": 3,
   "metadata": {},
   "outputs": [],
   "source": [
    "import os \n",
    "from pyspark.sql import functions as f, SparkSession, types as t\n",
    "from pyspark.sql.functions import lit\n",
    "from pyspark import SparkContext, SparkConf, SQLContext\n",
    "from pyspark.sql.functions import udf, col, length, isnan, when, count, regexp_replace\n",
    "import mysql.connector\n",
    "from pyspark.sql.window import Window\n",
    "from datetime import datetime \n",
    "import mysql.connector\n",
    "from mysql.connector import Error"
   ]
  },
  {
   "cell_type": "code",
   "execution_count": 4,
   "metadata": {},
   "outputs": [
    {
     "name": "stderr",
     "output_type": "stream",
     "text": [
      "C:\\Users\\estudiante\\anaconda3\\envs\\Tutoriales\\lib\\site-packages\\pyspark\\sql\\context.py:79: FutureWarning: Deprecated in 3.0.0. Use SparkSession.builder.getOrCreate() instead.\n",
      "  FutureWarning\n"
     ]
    }
   ],
   "source": [
    "#Configuración de la sesión\n",
    "conf=SparkConf() \\\n",
    "    .set('spark.driver.extraClassPath', path_jar_driver)\n",
    "\n",
    "spark_context = SparkContext(conf=conf)\n",
    "sql_context = SQLContext(spark_context)\n",
    "spark = sql_context.sparkSession"
   ]
  },
  {
   "cell_type": "markdown",
   "metadata": {},
   "source": [
    "### Conexión y carga de datos"
   ]
  },
  {
   "cell_type": "markdown",
   "metadata": {},
   "source": [
    "Se define la función para conexión y cargue de dataframes desde la base de datos origen y luego la función para guardar un dataframe en una tabla de la base de datos destino."
   ]
  },
  {
   "cell_type": "code",
   "execution_count": 5,
   "metadata": {},
   "outputs": [],
   "source": [
    "def obterner_dataframe_desde_csv(_PATH, _sep):\n",
    "    return spark.read.load(_PATH, format=\"csv\", sep=_sep, inferSchema=\"true\", header='true')\n",
    "\n",
    "def obtener_dataframe_de_bd(db_connection_string, sql, db_user, db_psswd):\n",
    "    df_bd = spark.read.format('jdbc')\\\n",
    "        .option('url', db_connection_string) \\\n",
    "        .option('dbtable', sql) \\\n",
    "        .option('user', db_user) \\\n",
    "        .option('password', db_psswd) \\\n",
    "        .option('driver', 'com.mysql.cj.jdbc.Driver') \\\n",
    "        .load()\n",
    "    return df_bd\n",
    "\n",
    "def guardar_db(db_connection_string, df, tabla, db_user, db_psswd):\n",
    "    df.select('*').write.format('jdbc') \\\n",
    "      .mode('append') \\\n",
    "      .option('url', db_connection_string) \\\n",
    "      .option('dbtable', tabla) \\\n",
    "      .option('user', db_user) \\\n",
    "      .option('password', db_psswd) \\\n",
    "      .option('driver', 'com.mysql.cj.jdbc.Driver') \\\n",
    "      .save()"
   ]
  },
  {
   "cell_type": "markdown",
   "metadata": {},
   "source": [
    "# 3. Tarea ETL\n",
    "Espacio para desarrollar la tarea planteada"
   ]
  },
  {
   "cell_type": "markdown",
   "metadata": {},
   "source": [
    "### Áreas de servicio"
   ]
  },
  {
   "cell_type": "code",
   "execution_count": 10,
   "metadata": {},
   "outputs": [
    {
     "name": "stdout",
     "output_type": "stream",
     "text": [
      "+--------------------+------------------+--------------------+-------------+\n",
      "|IdAreaDeServicio_DWH|IdAreaDeServicio_T|              Nombre|AnnioCreacion|\n",
      "+--------------------+------------------+--------------------+-------------+\n",
      "|                   1|         100622017|New Jersey - Medi...|         2017|\n",
      "|                   2|         100722019|New Jersey  - Med...|         2019|\n",
      "|                   3|         100922020|New Jersey - Medi...|         2020|\n",
      "|                   4|         101012018|New Jersey - Medi...|         2018|\n",
      "|                   5|         101062020|New Jersey - Medi...|         2020|\n",
      "|                   6|         101082018|New Jersey - Medi...|         2018|\n",
      "|                   7|         101152020|New Jersey - Medi...|         2020|\n",
      "|                   8|           1012019|Dental11469KY0010...|         2019|\n",
      "|                   9|         101242019|New Jersey  - Med...|         2019|\n",
      "|                  10|          10132017|BlueOptions16842F...|         2017|\n",
      "+--------------------+------------------+--------------------+-------------+\n",
      "only showing top 10 rows\n",
      "\n"
     ]
    }
   ],
   "source": [
    "sql_Area = \"\"\" (\n",
    "SELECT \n",
    "    ROW_NUMBER() OVER () AS IdAreaDeServicio_DWH,\n",
    "\tIdAreaDeServicio_T, \n",
    "    NombreAreaDeServicio AS Nombre, \n",
    "    Fecha AS AnnioCreacion \n",
    "FROM \n",
    "RaSaTransaccional_ETL.FuenteAreasDeServicio_ETL \n",
    "GROUP BY \n",
    "\tIdAreaDeServicio_T, \n",
    "    NombreAreaDeServicio, \n",
    "    Fecha\n",
    ") AS Temp_AreaServ\"\"\"\n",
    "AreaServicio = obtener_dataframe_de_bd (grupo_connection_string, sql_Area, db_user, db_psswd)\n",
    "AreaServicio.show(10)"
   ]
  },
  {
   "cell_type": "code",
   "execution_count": 11,
   "metadata": {},
   "outputs": [],
   "source": [
    "guardar_db(grupo_connection_string, AreaServicio,'Proyecto_G9_202315.AreasDeServicio', db_user, db_psswd)"
   ]
  },
  {
   "cell_type": "markdown",
   "metadata": {},
   "source": [
    "### Geografía "
   ]
  },
  {
   "cell_type": "code",
   "execution_count": 17,
   "metadata": {},
   "outputs": [
    {
     "name": "stdout",
     "output_type": "stream",
     "text": [
      "+---------------+-------------+----------+-----------------+-------+-----------+------------+\n",
      "|IdGeografia_DWH|IdGeografia_T|    Estado|          Condado|AreaAct|DensidadAct|PoblacionAct|\n",
      "+---------------+-------------+----------+-----------------+-------+-----------+------------+\n",
      "|              1|        34005|New Jersey|Burlington County|  805.0|      577.0|      464269|\n",
      "|              2|        34023|New Jersey| Middlesex County|  311.0|     2768.0|      860807|\n",
      "|              3|        34019|New Jersey| Hunterdon County|  430.0|      302.0|      129924|\n",
      "|              4|        34031|New Jersey|   Passaic County|  185.0|     2801.0|      518117|\n",
      "|              5|        34037|New Jersey|    Sussex County|  521.0|      279.0|      145543|\n",
      "|              6|        34035|New Jersey|  Somerset County|  305.0|     1133.0|      345647|\n",
      "|              7|        21041|  Kentucky|   Carroll County|  130.0|       84.0|       10863|\n",
      "|              8|        12031|   Florida|     Duval County|  774.0|     1292.0|      999935|\n",
      "|              9|        34027|New Jersey|    Morris County|  469.0|     1090.0|      510981|\n",
      "|             10|        34041|New Jersey|    Warren County|  358.0|      309.0|      110731|\n",
      "+---------------+-------------+----------+-----------------+-------+-----------+------------+\n",
      "only showing top 10 rows\n",
      "\n"
     ]
    }
   ],
   "source": [
    "#ETL geografia \n",
    "#Desde SQL se hace el proceso de extracción y transformacion de la siguiente manera:\n",
    "\n",
    "sql_geografia = \"\"\" (\n",
    "SELECT DISTINCT\n",
    "    ROW_NUMBER() OVER () AS IdGeografia_DWH,\n",
    "    geo.IdGeografia_T,\n",
    "    geo.Estado,\n",
    "    geo.Condado,\n",
    "    CASE \n",
    "        WHEN geo.Area < 0 THEN geo.Area * -1 \n",
    "        ELSE geo.Area \n",
    "    END AS AreaAct,\n",
    "    geo.Densidad AS DensidadAct,\n",
    "    CASE \n",
    "        WHEN RIGHT(geo.PoblacionAct, 4) = '0001' THEN LEFT(geo.PoblacionAct, LENGTH(geo.PoblacionAct) - 4)\n",
    "        ELSE geo.PoblacionAct \n",
    "    END AS PoblacionAct\n",
    "FROM RaSaTransaccional_ETL.FuenteAreasDeServicio_ETL AS geo \n",
    "GROUP BY \n",
    "    geo.IdGeografia_T,\n",
    "    geo.Estado,\n",
    "    geo.Condado,\n",
    "    CASE \n",
    "        WHEN geo.Area < 0 THEN geo.Area * -1 \n",
    "        ELSE geo.Area \n",
    "    END,\n",
    "    geo.Densidad,\n",
    "    CASE \n",
    "        WHEN RIGHT(geo.PoblacionAct, 4) = '0001' THEN LEFT(geo.PoblacionAct, LENGTH(geo.PoblacionAct) - 4)\n",
    "        ELSE geo.PoblacionAct \n",
    "    END\n",
    ") AS Temp_geografia\"\"\"\n",
    "Geografia = obtener_dataframe_de_bd (grupo_connection_string, sql_geografia, db_user, db_psswd)\n",
    "Geografia.show(10)"
   ]
  },
  {
   "cell_type": "code",
   "execution_count": 18,
   "metadata": {},
   "outputs": [],
   "source": [
    "# Cargue\n",
    "guardar_db(grupo_connection_string, Geografia,'Proyecto_G9_202315.Geografia', db_user, db_psswd)"
   ]
  },
  {
   "cell_type": "markdown",
   "metadata": {},
   "source": [
    "### Nivel Servicio"
   ]
  },
  {
   "cell_type": "code",
   "execution_count": 6,
   "metadata": {},
   "outputs": [
    {
     "name": "stdout",
     "output_type": "stream",
     "text": [
      "+---------------------+-------------------+---------------+\n",
      "|IdNivelDeServicio_DWH|IdNivelDeServicio_T|    Descripcion|\n",
      "+---------------------+-------------------+---------------+\n",
      "|                    1|                  1|        Nivel 1|\n",
      "|                    2|                  2|        Nivel 2|\n",
      "|                    3|                  3|Fuera de la red|\n",
      "+---------------------+-------------------+---------------+\n",
      "\n"
     ]
    }
   ],
   "source": [
    "#ETL Dimension Nivel Servicio\n",
    "\n",
    "sql_NivelServ = \"\"\" (\n",
    "SELECT DISTINCT \n",
    "    ROW_NUMBER() OVER () AS IdNivelDeServicio_DWH, \n",
    "    ns.IdNivelDeServicio_T,\n",
    "    ns.Descripcion\n",
    "FROM RaSaTransaccional_ETL.NivelesDeServicio AS ns\n",
    ") AS Temp_NivelServ\"\"\"\n",
    "NivelesDeServicio = obtener_dataframe_de_bd(grupo_connection_string, sql_NivelServ, db_user, db_psswd)\n",
    "NivelesDeServicio.show(10)\n",
    "#Este etl solo tiene en transformación la eliminación de duplicados y la creación de IDS"
   ]
  },
  {
   "cell_type": "code",
   "execution_count": 42,
   "metadata": {},
   "outputs": [],
   "source": [
    "# Cargue\n",
    "guardar_db(grupo_connection_string, NivelesDeServicio,'Proyecto_G9_202315.NivelesDeServicio', db_user, db_psswd)"
   ]
  },
  {
   "cell_type": "markdown",
   "metadata": {},
   "source": [
    "### Condiciones Pago "
   ]
  },
  {
   "cell_type": "code",
   "execution_count": 12,
   "metadata": {},
   "outputs": [
    {
     "name": "stdout",
     "output_type": "stream",
     "text": [
      "+---------------------+-------------------+--------------------+--------+\n",
      "|IdCondicionDePago_DWH|IdCondicionDePago_T|         Descripcion|    Tipo|\n",
      "+---------------------+-------------------+--------------------+--------+\n",
      "|                    1|                187|Copay with deduct...|  Copago|\n",
      "|                    2|                204|       Copay per Day|  Copago|\n",
      "|                    3|                 45|         Coinsurance|Coseguro|\n",
      "|                    4|                 85|Copay per Day bef...|  Copago|\n",
      "|                    5|                 18|No Charge after d...|Coseguro|\n",
      "|                    6|                 27|Coinsurance after...|Coseguro|\n",
      "|                    7|                238|               Copay|  Copago|\n",
      "|                    8|                207|No Charge after d...|  Copago|\n",
      "|                    9|                 68|Copay per Stay af...|  Copago|\n",
      "|                   10|                153|Copay after deduc...|  Copago|\n",
      "+---------------------+-------------------+--------------------+--------+\n",
      "only showing top 10 rows\n",
      "\n"
     ]
    }
   ],
   "source": [
    "#ETL Dimension Condiciones de Pago\n",
    "sql_CondicionDePago = \"\"\" (\n",
    "SELECT \n",
    "    ROW_NUMBER() OVER () AS IdCondicionDePago_DWH,\n",
    "    cp.IdCondicionesDePago_T AS IdCondicionDePago_T,\n",
    "    cp.Descripcion,\n",
    "    CASE \n",
    "        \n",
    "        WHEN cp.Tipo = 'Copagado' THEN 'Copago'\n",
    "        WHEN cp.Tipo = 'Coseguridad' THEN 'Coseguro'\n",
    "        ELSE cp.Tipo \n",
    "    END AS Tipo\n",
    "FROM RaSaTransaccional_ETL.FuenteCondicionesDePago_ETL AS cp \n",
    "GROUP BY \n",
    "    cp.IdCondicionesDePago_T,\n",
    "    cp.Descripcion,\n",
    "    CASE \n",
    "        \n",
    "        WHEN cp.Tipo = 'Copagado' THEN 'Copago'\n",
    "        WHEN cp.Tipo = 'Coseguridad' THEN 'Coseguro'\n",
    "        ELSE cp.Tipo \n",
    "    END\n",
    ") AS Temp_CondPag\"\"\"\n",
    "\n",
    "CondicionDePago = obtener_dataframe_de_bd (grupo_connection_string, sql_CondicionDePago, db_user, db_psswd)\n",
    "CondicionDePago.show(10)"
   ]
  },
  {
   "cell_type": "code",
   "execution_count": 13,
   "metadata": {},
   "outputs": [],
   "source": [
    "# Cargue\n",
    "guardar_db(grupo_connection_string, CondicionDePago,'Proyecto_G9_202315.CondicionDePago', db_user, db_psswd)"
   ]
  },
  {
   "cell_type": "markdown",
   "metadata": {},
   "source": [
    "### Proveedor"
   ]
  },
  {
   "cell_type": "code",
   "execution_count": 6,
   "metadata": {},
   "outputs": [
    {
     "name": "stdout",
     "output_type": "stream",
     "text": [
      "+---------------+-------------+\n",
      "|IdProveedor_DWH|IdProveedor_T|\n",
      "+---------------+-------------+\n",
      "|              1|        16842|\n",
      "|              2|        14002|\n",
      "|              3|        19722|\n",
      "|              4|        81413|\n",
      "|              5|        52697|\n",
      "|              6|        28162|\n",
      "|              7|        20129|\n",
      "|              8|        40572|\n",
      "|              9|        38166|\n",
      "|             10|        70893|\n",
      "+---------------+-------------+\n",
      "only showing top 10 rows\n",
      "\n"
     ]
    }
   ],
   "source": [
    "#ETL Dimension Proveedor\n",
    "sql_proveedor = \"\"\" (\n",
    "SELECT \n",
    "    ROW_NUMBER() OVER () AS IdProveedor_DWH,\n",
    "    p.IdProveedor_T\n",
    "FROM RaSaTransaccional_ETL.FuentePlanesBeneficio_ETL AS p  \n",
    "GROUP BY \n",
    "    p.IdProveedor_T\n",
    ") AS Temp_proveed\"\"\"\n",
    "Proveedor = obtener_dataframe_de_bd (grupo_connection_string, sql_proveedor, db_user, db_psswd)\n",
    "Proveedor.show(10)\n",
    "#Este etl solo tiene en transformación la eliminación de duplicados y la creación de IDS"
   ]
  },
  {
   "cell_type": "code",
   "execution_count": 7,
   "metadata": {},
   "outputs": [],
   "source": [
    "# Cargue\n",
    "guardar_db(grupo_connection_string, Proveedor,'Proyecto_G9_202315.Proveedor', db_user, db_psswd)"
   ]
  },
  {
   "cell_type": "markdown",
   "metadata": {},
   "source": [
    "### Tipos Beneficio"
   ]
  },
  {
   "cell_type": "code",
   "execution_count": 7,
   "metadata": {},
   "outputs": [
    {
     "name": "stdout",
     "output_type": "stream",
     "text": [
      "+-------------------+-----------------+--------------------+\n",
      "|IdTipoBeneficio_DWH|IdTipoBeneficio_T|              Nombre|\n",
      "+-------------------+-----------------+--------------------+\n",
      "|                  1|                5|Abortion For Whic...|\n",
      "|                  2|               10|   Accidental Dental|\n",
      "|                  3|               20|Adult Frames And ...|\n",
      "|                  4|               25|  Allergy Injections|\n",
      "|                  5|               30|     Allergy Testing|\n",
      "|                  6|               40|          Anesthesia|\n",
      "|                  7|               45|Anesthesia Servic...|\n",
      "|                  8|               50|Applied Behavior ...|\n",
      "|                  9|               60|Autism Spectrum D...|\n",
      "|                 10|               65|Autism Spectrum D...|\n",
      "+-------------------+-----------------+--------------------+\n",
      "only showing top 10 rows\n",
      "\n"
     ]
    }
   ],
   "source": [
    "#ETL Dimension TiposBeneficio\n",
    "sql_tbenef = \"\"\" (\n",
    "SELECT \n",
    "    ROW_NUMBER() OVER () AS IdTipoBeneficio_DWH,\n",
    "    tbenef.IdTipoBeneficio_T,\n",
    "    tbenef.Nombre\n",
    "FROM RaSaTransaccional_ETL.FuenteTiposBeneficio_ETL AS tbenef\n",
    "GROUP BY \n",
    "    tbenef.IdTipoBeneficio_T,\n",
    "    tbenef.Nombre\n",
    ") AS Temp_tbenef\"\"\"\n",
    "\n",
    "\n",
    "TiposBeneficio = obtener_dataframe_de_bd (source_db_connection_string, sql_tbenef, db_user, db_psswd)\n",
    "TiposBeneficio.show(10)\n",
    "#Este etl solo tiene en transformación la eliminación de duplicados y la creación de IDS"
   ]
  },
  {
   "cell_type": "code",
   "execution_count": 8,
   "metadata": {},
   "outputs": [],
   "source": [
    "# Cargue\n",
    "guardar_db(grupo_connection_string, TiposBeneficio,'Proyecto_G9_202315.TiposBeneficio', db_user, db_psswd)"
   ]
  },
  {
   "cell_type": "markdown",
   "metadata": {},
   "source": [
    "### Mini Condiciones Tipo Beneficio "
   ]
  },
  {
   "cell_type": "code",
   "execution_count": 9,
   "metadata": {},
   "outputs": [
    {
     "name": "stdout",
     "output_type": "stream",
     "text": [
      "+---------------------------+---------------------+-----+-----------------------+----------------------------------------+---------------------------------------+-------------------+\n",
      "|IdCondicionesBeneficios_DWH|EstaCubiertaPorSeguro|EsEHB|TieneLimiteCuantitativo|ExcluidoDelDesembolsoMaximoDentroDeLaRed|ExcluidoDelDesembolsoMaximoFueraDeLaRed|    UnidadDelLimite|\n",
      "+---------------------------+---------------------+-----+-----------------------+----------------------------------------+---------------------------------------+-------------------+\n",
      "|                          1|                   No|   No|                     No|                                      No|                                     No|                   |\n",
      "|                          2|                  Yes|   No|                     No|                                      No|                                    Yes|                   |\n",
      "|                          3|                  Yes|  Yes|                    Yes|                                      No|                                     No|Dollars per Episode|\n",
      "|                          4|                   No|  Yes|                     No|                                      No|                                     No|                   |\n",
      "|                          5|                  Yes|   No|                    Yes|                                     Yes|                                    Yes|   Item(s) per Year|\n",
      "|                          6|                  Yes|   No|                     No|                                      No|                                     No|                   |\n",
      "|                          7|                  Yes|   No|                    Yes|                                      No|                                     No|   Dollars per Year|\n",
      "|                          8|                  Yes|   No|                    Yes|                                      No|                                     No|  Visit(s) per Year|\n",
      "|                          9|                  Yes|   No|                    Yes|                                      No|                                    Yes|  Visit(s) per Year|\n",
      "|                         10|                   No|   No|                     No|                                     Yes|                                    Yes|                   |\n",
      "+---------------------------+---------------------+-----+-----------------------+----------------------------------------+---------------------------------------+-------------------+\n",
      "only showing top 10 rows\n",
      "\n"
     ]
    }
   ],
   "source": [
    "#ETL Dimension MINITiposBeneficio\n",
    "sql_tbenefmini = \"\"\" (\n",
    "SELECT \n",
    "    ROW_NUMBER() OVER () AS IdCondicionesBeneficios_DWH,\n",
    "    tbenefmini.EstaCubiertaPorSeguro,\n",
    "    CASE\n",
    "        WHEN tbenefmini.EsEHB = 'True' THEN 'Yes'\n",
    "        WHEN tbenefmini.EsEHB = 'False' THEN 'No'\n",
    "        WHEN tbenefmini.EsEHB = 'Si' THEN 'Yes'\n",
    "        ELSE tbenefmini.EsEHB\n",
    "    END AS EsEHB,\n",
    "    CASE\n",
    "        WHEN tbenefmini.TieneLimiteCuantitativo = 'True' THEN 'Yes'\n",
    "        WHEN tbenefmini.TieneLimiteCuantitativo = 'False' THEN 'No'\n",
    "        WHEN tbenefmini.TieneLimiteCuantitativo = 'Si' THEN 'Yes'\n",
    "        ELSE tbenefmini.TieneLimiteCuantitativo\n",
    "    END AS TieneLimiteCuantitativo,\n",
    "    CASE\n",
    "        WHEN tbenefmini.ExcluidoDelDesembolsoMaximoDentroDeLaRed = 'True' THEN 'Yes'\n",
    "        WHEN tbenefmini.ExcluidoDelDesembolsoMaximoDentroDeLaRed = 'False' THEN 'No'\n",
    "        WHEN tbenefmini.ExcluidoDelDesembolsoMaximoDentroDeLaRed = 'Si' THEN 'Yes'\n",
    "        ELSE tbenefmini.ExcluidoDelDesembolsoMaximoDentroDeLaRed\n",
    "    END AS ExcluidoDelDesembolsoMaximoDentroDeLaRed,\n",
    "    CASE\n",
    "        WHEN tbenefmini.ExcluidoDelDesembolsoMaximoFueraDeLaRed = 'True' THEN 'Yes'\n",
    "        WHEN tbenefmini.ExcluidoDelDesembolsoMaximoFueraDeLaRed = 'False' THEN 'No'\n",
    "        WHEN tbenefmini.ExcluidoDelDesembolsoMaximoFueraDeLaRed = 'Si' THEN 'Yes'\n",
    "        ELSE tbenefmini.ExcluidoDelDesembolsoMaximoFueraDeLaRed\n",
    "    END AS ExcluidoDelDesembolsoMaximoFueraDeLaRed,\n",
    "    tbenefmini.UnidadDelLimite\n",
    "FROM RaSaTransaccional_ETL.FuenteTiposBeneficio_ETL AS tbenefmini \n",
    "GROUP BY \n",
    "    tbenefmini.EstaCubiertaPorSeguro,\n",
    "    CASE\n",
    "        WHEN tbenefmini.EsEHB = 'True' THEN 'Yes'\n",
    "        WHEN tbenefmini.EsEHB = 'False' THEN 'No'\n",
    "        WHEN tbenefmini.EsEHB = 'Si' THEN 'Yes'\n",
    "        ELSE tbenefmini.EsEHB\n",
    "    END,\n",
    "    CASE\n",
    "        WHEN tbenefmini.TieneLimiteCuantitativo = 'True' THEN 'Yes'\n",
    "        WHEN tbenefmini.TieneLimiteCuantitativo = 'False' THEN 'No'\n",
    "        WHEN tbenefmini.TieneLimiteCuantitativo = 'Si' THEN 'Yes'\n",
    "        ELSE tbenefmini.TieneLimiteCuantitativo\n",
    "    END,\n",
    "    CASE\n",
    "        WHEN tbenefmini.ExcluidoDelDesembolsoMaximoDentroDeLaRed = 'True' THEN 'Yes'\n",
    "        WHEN tbenefmini.ExcluidoDelDesembolsoMaximoDentroDeLaRed = 'False' THEN 'No'\n",
    "        WHEN tbenefmini.ExcluidoDelDesembolsoMaximoDentroDeLaRed = 'Si' THEN 'Yes'\n",
    "        ELSE tbenefmini.ExcluidoDelDesembolsoMaximoDentroDeLaRed\n",
    "    END,\n",
    "    CASE\n",
    "        WHEN tbenefmini.ExcluidoDelDesembolsoMaximoFueraDeLaRed = 'True' THEN 'Yes'\n",
    "        WHEN tbenefmini.ExcluidoDelDesembolsoMaximoFueraDeLaRed = 'False' THEN 'No'\n",
    "        WHEN tbenefmini.ExcluidoDelDesembolsoMaximoFueraDeLaRed = 'Si' THEN 'Yes'\n",
    "        ELSE tbenefmini.ExcluidoDelDesembolsoMaximoFueraDeLaRed\n",
    "    END,\n",
    "    tbenefmini.UnidadDelLimite\n",
    ") AS Temp_tbenef\"\"\"\n",
    "MiniCondicionesTipoBeneficio = obtener_dataframe_de_bd(grupo_connection_string, sql_tbenefmini, db_user, db_psswd)\n",
    "MiniCondicionesTipoBeneficio.show(10)"
   ]
  },
  {
   "cell_type": "code",
   "execution_count": 10,
   "metadata": {},
   "outputs": [],
   "source": [
    "# Cargue\n",
    "guardar_db(grupo_connection_string, MiniCondicionesTipoBeneficio,'Proyecto_G9_202315.MiniCondicionesTipoBeneficio', db_user, db_psswd)"
   ]
  },
  {
   "cell_type": "markdown",
   "metadata": {},
   "source": [
    "### Asociación Áreas de Servicio con Geografía"
   ]
  },
  {
   "cell_type": "code",
   "execution_count": 19,
   "metadata": {},
   "outputs": [
    {
     "name": "stdout",
     "output_type": "stream",
     "text": [
      "+--------------------+---------------+\n",
      "|IDAreaDeServicio_DWH|IdGeografia_DWH|\n",
      "+--------------------+---------------+\n",
      "|                5029|              1|\n",
      "|                 961|              1|\n",
      "|                3683|              1|\n",
      "|                3667|              1|\n",
      "|                4602|              1|\n",
      "|                 992|              1|\n",
      "|                4172|              1|\n",
      "|                4170|              1|\n",
      "|                4166|              1|\n",
      "|                4161|              1|\n",
      "+--------------------+---------------+\n",
      "only showing top 10 rows\n",
      "\n"
     ]
    }
   ],
   "source": [
    "#ETL Dimension AsociacionAreaServicioGeografia\n",
    "sql_asociaArserGeo = \"\"\" (\n",
    "SELECT \n",
    "area_ser.IDAreaDeServicio_DWH,\n",
    "geo_base.IdGeografia_DWH\n",
    "FROM \n",
    "Proyecto_G9_202315.Geografia AS geo_base \n",
    "LEFT JOIN RaSaTransaccional_ETL.FuenteAreasDeServicio_ETL AS fuente_geo ON geo_base.IdGeografia_T = fuente_geo.IdGeografia_T\n",
    "LEFT JOIN Proyecto_G9_202315.AreasDeServicio AS area_ser ON area_ser.IdAreaDeServicio_T = fuente_geo.IdAreaDeServicio_T\n",
    ") AS AsocAreaServGeo\"\"\"\n",
    "AsociacionAreaServicioGeografia = obtener_dataframe_de_bd(grupo_connection_string, sql_asociaArserGeo, db_user_2, db_psswd)\n",
    "AsociacionAreaServicioGeografia.show(10)"
   ]
  },
  {
   "cell_type": "code",
   "execution_count": 20,
   "metadata": {},
   "outputs": [],
   "source": [
    "# Cargue\n",
    "guardar_db(grupo_connection_string, AsociacionAreaServicioGeografia,'Proyecto_G9_202315.AsociacionAreaServicioGeografia', db_user, db_psswd)"
   ]
  },
  {
   "cell_type": "markdown",
   "metadata": {},
   "source": [
    "### Hecho Planes Tipos Beneficio"
   ]
  },
  {
   "cell_type": "code",
   "execution_count": null,
   "metadata": {},
   "outputs": [],
   "source": [
    "\"\"\"\n",
    "    * En este query se formatea el campo de Fecha para traerlo acorde al idFecha \n",
    "    en formato YYYYMMDD. \n",
    "    * Se cruza la información con las demás dimensiones de DWH para obtener estos \n",
    "    campos identificadores. \n",
    "    * Se toma solo lo válido en la Tabla histórica \n",
    "\"\"\""
   ]
  },
  {
   "cell_type": "code",
   "execution_count": 14,
   "metadata": {},
   "outputs": [
    {
     "name": "stdout",
     "output_type": "stream",
     "text": [
      "+-----------+--------------+-----------------+--------------------+---------------------+-------------------+---------------------------+-----------------------------+---------------------------+-------------+-----------+--------------+\n",
      "|IdProveedor|IdFechaEmision|           IdPlan|IdAreaDeServicio_DWH|IdNivelDeServicio_DWH|IdTipoBeneficio_DWH|IdCondicionesBeneficios_DWH|IdCondicionDePagoCoseguro_DWH|IdCondicionDePagoCopago_DWH|valorCoseguro|valorCopago|cantidadLimite|\n",
      "+-----------+--------------+-----------------+--------------------+---------------------+-------------------+---------------------------+-----------------------------+---------------------------+-------------+-----------+--------------+\n",
      "|          1|      20171231|16842FL0070128-03|                  31|                    3|                110|                         53|                            6|                         18|           50|          0|          35.0|\n",
      "|          3|      20201231|19722NM0010001-02|                1099|                    3|                150|                         67|                            3|                         18|          100|          0|          null|\n",
      "|          7|      20191231|20129IL0330060-05|                3749|                    3|                  2|                         26|                            3|                         18|          100|          0|          null|\n",
      "|          9|      20171231|38166WI0180012-06|                4373|                    3|                190|                         34|                            3|                         18|          100|          0|          null|\n",
      "|         10|      20171231|70893GA0010009-04|                2401|                    1|                136|                         62|                            3|                          7|            0|          0|          null|\n",
      "|         11|      20191231|25268KS0020001-01|                1201|                    2|                 33|                         79|                            3|                          7|            0|          0|           1.0|\n",
      "|         12|      20171231|36096IL0990056-00|                2113|                    1|                168|                          8|                            3|                          7|            0|          0|          null|\n",
      "|         14|      20211231|93078IA0060029-03|                  41|                    1|                201|                         16|                           20|                         18|            0|          0|          null|\n",
      "|         19|      20171231|49046GA0420043-01|                 619|                    2|                135|                          8|                            3|                          7|            0|          0|          null|\n",
      "|         14|      20201231|93078IA0060029-03|                1013|                    1|                 13|                         13|                            3|                          7|            0|          0|          null|\n",
      "+-----------+--------------+-----------------+--------------------+---------------------+-------------------+---------------------------+-----------------------------+---------------------------+-------------+-----------+--------------+\n",
      "only showing top 10 rows\n",
      "\n"
     ]
    }
   ],
   "source": [
    "#ETL Dimension HechoPlanesTiposBeneficio\n",
    "sql_hechoPlanTipoBen = \"\"\" (\n",
    "SELECT  \n",
    "prv.IdProveedor_DWH AS IdProveedor, \n",
    "CASE \n",
    "\tWHEN Fecha LIKE '%,%' THEN\n",
    "      DATE_FORMAT(STR_TO_DATE(Fecha, '%b %d,%Y'), '%Y%m%d')\n",
    "    WHEN Fecha LIKE '%/%' THEN \n",
    "      DATE_FORMAT(STR_TO_DATE(Fecha, '%d/%m/%Y %H:%i:%s'), '%Y%m%d')\n",
    "    WHEN Fecha LIKE '% %' THEN \n",
    "      DATE_FORMAT(Fecha, '%Y%m%d')\n",
    "    WHEN Fecha LIKE '%-%' THEN \n",
    "      DATE_FORMAT(Fecha, '%Y%m%d')\n",
    "\tElse Fecha \n",
    "END AS IdFechaEmision, \n",
    "mov.IdPlan_T AS IdPlan, \n",
    "ars.IdAreaDeServicio_DWH, \n",
    "nls.IdNivelDeServicio_DWH, \n",
    "tbn.IdTipoBeneficio_DWH, \n",
    "hhctb.IdCondicionesBeneficios_DWH, \n",
    "cps.IdCondicionDePago_DWH AS IdCondicionDePagoCoseguro_DWH, \n",
    "cpc.IdCondicionDePago_DWH AS IdCondicionDePagoCopago_DWH, \n",
    "mov.valorCoseguro, \n",
    "mov.valorCopago, \n",
    "mov.cantidadLimite \n",
    "FROM RaSaTransaccional_ETL.FuentePlanesBeneficio_ETL AS mov \n",
    "LEFT JOIN Proyecto_G9_202315.Proveedor AS prv ON mov.IdProveedor_T = prv.IdProveedor_T \n",
    "LEFT JOIN Proyecto_G9_202315.AreasDeServicio AS ars ON mov.IdAreaDeServicio_T = ars.IDAreaDeServicio_T \n",
    "LEFT JOIN Proyecto_G9_202315.NivelesDeServicio AS nls ON mov.IdNivelServicio_T = nls.IdNivelDeServicio_T  \n",
    "LEFT JOIN Proyecto_G9_202315.TiposBeneficio AS tbn ON mov.IdTipoBeneficio_T = tbn.IdTipoBeneficio_T  \n",
    "LEFT JOIN Proyecto_G9_202315.CondicionDePago AS cpc ON mov.IdCondicionDePagoCopago_T = cpc.IdCondicionDePago_T AND cpc.Tipo = 'Copago' #\n",
    "LEFT JOIN Proyecto_G9_202315.CondicionDePago AS cps ON mov.IdCondicionDePagoCoseguro_T = cps.IdCondicionDePago_T AND cps.Tipo = 'Coseguro'#\n",
    "LEFT JOIN Proyecto_G9_202315.HechoHistCondicionesTiposBeneficio AS hhctb ON tbn.IdTipoBeneficio_DWH = hhctb.IdTipoBeneficio_DWH AND hhctb.IdFechaFin = (SELECT MAX(IdFechaFin) FROM Proyecto_G9_202315.HechoHistCondicionesTiposBeneficio) \n",
    ") AS hechoPlanTipoBen\"\"\"\n",
    "HechoPlanesTiposBeneficio = obtener_dataframe_de_bd(grupo_connection_string, sql_hechoPlanTipoBen, db_user_2, db_psswd)\n",
    "HechoPlanesTiposBeneficio.show(10)"
   ]
  },
  {
   "cell_type": "code",
   "execution_count": 15,
   "metadata": {},
   "outputs": [],
   "source": [
    "# Cargue\n",
    "guardar_db(grupo_connection_string, HechoPlanesTiposBeneficio,'Proyecto_G9_202315.HechoPlanesTiposBeneficio', db_user, db_psswd)"
   ]
  },
  {
   "cell_type": "markdown",
   "metadata": {},
   "source": [
    "### Hecho Histórico Condiciones Tipos Beneficio "
   ]
  },
  {
   "cell_type": "markdown",
   "metadata": {},
   "source": [
    "#### Paso 1: Crear y cargar la Dimensión HechoHistoricoCondicionesTiposBeneficio"
   ]
  },
  {
   "cell_type": "code",
   "execution_count": null,
   "metadata": {},
   "outputs": [],
   "source": [
    "## Borrar la tabla HechoHistCondicionesTiposBeneficio para que cargue de manera automática. \n",
    "## Se borra y vuelve a cargar para alivianar la carga de CPU, es decir, se prioriza el \n",
    "## trabajo sobre la CPU y se decide cargar nuevamente los datos en vez de correr \n",
    "## procesos grandes de corroboración de cambio de entidades \n",
    "try:\n",
    "    # Conexión a la base de datos\n",
    "    conexion = mysql.connector.connect(\n",
    "          host=\"157.253.236.116\",\n",
    "          port=\"8080\",\n",
    "        database='Proyecto_G9_202315',\n",
    "        user=db_user,\n",
    "        password=db_psswd\n",
    "    )\n",
    "\n",
    "    if conexion.is_connected():\n",
    "        # Crear un cursor\n",
    "        cursor = conexion.cursor()\n",
    "\n",
    "        # Sentencia SQL para borrar la tabla\n",
    "        sentencia_borrar_tabla = \"DROP TABLE IF EXISTS Proyecto_G9_202315.HechoHistCondicionesTiposBeneficio\"\n",
    "\n",
    "        # Ejecutar la sentencia\n",
    "        cursor.execute(sentencia_borrar_tabla)\n",
    "        print(\"La tabla ha sido borrada exitosamente.\")\n",
    "\n",
    "        # Cerrar el cursor y la conexión\n",
    "        cursor.close()\n",
    "        conexion.close()\n",
    "\n",
    "except Error as e:\n",
    "    print(\"Error durante la conexión:\", e)"
   ]
  },
  {
   "cell_type": "code",
   "execution_count": 70,
   "metadata": {},
   "outputs": [],
   "source": [
    "sql_condiciones_Tipo_ben = \"\"\"(\n",
    "SELECT  \n",
    "\tDim.IdTipoBeneficio_DWH, \n",
    "    Mini.IdCondicionesBeneficios_DWH, \n",
    "    CONCAT(Base.Fecha, '-01-01') AS IdFechaInicio, \n",
    "\t1 AS Cambio \n",
    "FROM \n",
    "RaSaTransaccional_ETL.FuenteTiposBeneficio_ETL AS Base \n",
    "LEFT JOIN Proyecto_G9_202315.TiposBeneficio AS Dim ON Base.IdTipoBeneficio_T = Dim.IdTipoBeneficio_T \n",
    "LEFT JOIN \n",
    "\tProyecto_G9_202315.MiniCondicionesTipoBeneficio AS Mini \n",
    "    ON \n",
    "\t\tMini.EsEHB = CASE\n",
    "\t\t\t\t\t\tWHEN Base.EsEHB = 'True' THEN 'Yes'\n",
    "\t\t\t\t\t\tWHEN Base.EsEHB = 'False' THEN 'No'\n",
    "\t\t\t\t\t\tWHEN Base.EsEHB = 'Si' THEN 'Yes'\n",
    "\t\t\t\t\t\tELSE Base.EsEHB\n",
    "\t\t\t\t\t\tEND\n",
    "        AND Mini.EstaCubiertaPorSeguro = Base.EstaCubiertaPorSeguro \n",
    "        AND Mini.ExcluidoDelDesembolsoMaximoDentroDeLaRed = CASE\n",
    "\t\t\t\t\t\t\t\t\t\t\t\t\t\t\tWHEN Base.ExcluidoDelDesembolsoMaximoDentroDeLaRed = 'True' THEN 'Yes'\n",
    "\t\t\t\t\t\t\t\t\t\t\t\t\t\t\tWHEN Base.ExcluidoDelDesembolsoMaximoDentroDeLaRed = 'False' THEN 'No'\n",
    "\t\t\t\t\t\t\t\t\t\t\t\t\t\t\tWHEN Base.ExcluidoDelDesembolsoMaximoDentroDeLaRed = 'Si' THEN 'Yes'\n",
    "\t\t\t\t\t\t\t\t\t\t\t\t\t\t\tELSE Base.ExcluidoDelDesembolsoMaximoDentroDeLaRed\n",
    "\t\t\t\t\t\t\t\t\t\t\t\t\t\tEND \n",
    "        AND Mini.ExcluidoDelDesembolsoMaximoFueraDeLaRed = CASE\n",
    "\t\t\t\t\t\t\t\t\t\t\t\t\t\t\tWHEN Base.ExcluidoDelDesembolsoMaximoFueraDeLaRed = 'True' THEN 'Yes'\n",
    "\t\t\t\t\t\t\t\t\t\t\t\t\t\t\tWHEN Base.ExcluidoDelDesembolsoMaximoFueraDeLaRed = 'False' THEN 'No'\n",
    "\t\t\t\t\t\t\t\t\t\t\t\t\t\t\tWHEN Base.ExcluidoDelDesembolsoMaximoFueraDeLaRed = 'Si' THEN 'Yes'\n",
    "\t\t\t\t\t\t\t\t\t\t\t\t\t\t\tELSE Base.ExcluidoDelDesembolsoMaximoFueraDeLaRed\n",
    "\t\t\t\t\t\t\t\t\t\t\t\t\t\tEND\n",
    "        AND Mini.TieneLimiteCuantitativo = CASE\n",
    "\t\t\t\t\t\t\t\t\t\t\t\tWHEN Base.TieneLimiteCuantitativo = 'True' THEN 'Yes'\n",
    "\t\t\t\t\t\t\t\t\t\t\t\tWHEN Base.TieneLimiteCuantitativo = 'False' THEN 'No'\n",
    "\t\t\t\t\t\t\t\t\t\t\t\tWHEN Base.TieneLimiteCuantitativo = 'Si' THEN 'Yes'\n",
    "\t\t\t\t\t\t\t\t\t\t\t\tELSE Base.TieneLimiteCuantitativo\n",
    "\t\t\t\t\t\t\t\t\t\t\tEND\n",
    "        AND Mini.UnidadDelLimite = Base.UnidadDelLimite \n",
    "GROUP BY \n",
    "\tDim.IdTipoBeneficio_DWH, \n",
    "    Mini.IdCondicionesBeneficios_DWH, \n",
    "    CONCAT(Base.Fecha, '-01-01')  \n",
    ") AS Condiciones_Tipo_ben\"\"\"\n",
    "HechoHistoricoCondicionesTiposBeneficio = obtener_dataframe_de_bd(grupo_connection_string, sql_condiciones_Tipo_ben, db_user, db_psswd)"
   ]
  },
  {
   "cell_type": "code",
   "execution_count": 71,
   "metadata": {},
   "outputs": [
    {
     "name": "stdout",
     "output_type": "stream",
     "text": [
      "+-------------------+---------------------------+-------------+------+\n",
      "|IdTipoBeneficio_DWH|IdCondicionesBeneficios_DWH|IdFechaInicio|Cambio|\n",
      "+-------------------+---------------------------+-------------+------+\n",
      "|                  1|                          1|   2017-01-01|     1|\n",
      "|                  1|                          2|   2020-01-01|     1|\n",
      "|                  2|                          3|   2017-01-01|     1|\n",
      "|                  2|                          4|   2019-01-01|     1|\n",
      "|                  3|                          5|   2019-01-01|     1|\n",
      "|                  4|                          2|   2018-01-01|     1|\n",
      "|                  5|                          1|   2020-01-01|     1|\n",
      "|                  6|                          6|   2017-01-01|     1|\n",
      "|                  7|                          6|   2018-01-01|     1|\n",
      "|                  8|                          7|   2017-01-01|     1|\n",
      "|                  9|                          8|   2017-01-01|     1|\n",
      "|                  9|                          9|   2020-01-01|     1|\n",
      "|                 10|                          9|   2020-01-01|     1|\n",
      "|                 11|                          6|   2017-01-01|     1|\n",
      "|                 12|                         10|   2020-01-01|     1|\n",
      "|                 13|                         11|   2017-01-01|     1|\n",
      "|                 13|                         12|   2018-01-01|     1|\n",
      "|                 13|                          7|   2019-01-01|     1|\n",
      "|                 13|                         13|   2021-01-01|     1|\n",
      "|                 14|                         14|   2017-01-01|     1|\n",
      "+-------------------+---------------------------+-------------+------+\n",
      "only showing top 20 rows\n",
      "\n"
     ]
    }
   ],
   "source": [
    "HechoHistoricoCondicionesTiposBeneficio.show()"
   ]
  },
  {
   "cell_type": "code",
   "execution_count": 72,
   "metadata": {},
   "outputs": [],
   "source": [
    "# Convertir las fechas de string a date para poder operar con ellas\n",
    "#HechoHistoricoCondicionesTiposBeneficio = HechoHistoricoCondicionesTiposBeneficio.withColumn(\"IdFechaInicio\", f.to_date(col(\"IdFechaInicio\"), \"dd/MM/yyyy\"))\n",
    "\n",
    "# Crear especificación de ventana ordenada por IdFechaInicio de forma descendente\n",
    "windowSpecDesc = Window.partitionBy(\"IdTipoBeneficio_DWH\").orderBy(col(\"IdFechaInicio\").desc()) "
   ]
  },
  {
   "cell_type": "code",
   "execution_count": 73,
   "metadata": {},
   "outputs": [],
   "source": [
    "# Crear especificación de ventana ordenada por IdFechaInicio de forma ascendente para obtener la fecha 'siguiente'\n",
    "windowSpecAsc = Window.partitionBy(\"IdTipoBeneficio_DWH\").orderBy(col(\"IdFechaInicio\").asc())"
   ]
  },
  {
   "cell_type": "code",
   "execution_count": 74,
   "metadata": {},
   "outputs": [],
   "source": [
    "# Usar la función lead para obtener la 'siguiente' fecha más alta dentro del mismo grupo de IdTipoBeneficio_DWH\n",
    "HechoHistoricoCondicionesTiposBeneficio = HechoHistoricoCondicionesTiposBeneficio.withColumn(\"SiguienteFechaMax\", f.lead(\"IdFechaInicio\", 1).over(windowSpecAsc))"
   ]
  },
  {
   "cell_type": "code",
   "execution_count": 75,
   "metadata": {},
   "outputs": [],
   "source": [
    "# Calcular la columna 'IdFechaFin' basada en la lógica descrita\n",
    "HechoHistoricoCondicionesTiposBeneficio = HechoHistoricoCondicionesTiposBeneficio.withColumn(\n",
    "    \"IdFechaFin\",\n",
    "    f.when(\n",
    "        f.col(\"SiguienteFechaMax\").isNull(), \n",
    "        f.lit('2999-12-31')  # Si es la última fecha\n",
    "    ).otherwise(\n",
    "        f.expr(\"concat(year(SiguienteFechaMax) - 1, '-12-31')\")  # Construir la fecha '31/12/yyyy' para el año siguiente\n",
    "    )\n",
    ")"
   ]
  },
  {
   "cell_type": "code",
   "execution_count": 76,
   "metadata": {},
   "outputs": [
    {
     "name": "stdout",
     "output_type": "stream",
     "text": [
      "+-------------------+---------------------------+-------------+----------+------+\n",
      "|IdTipoBeneficio_DWH|IdCondicionesBeneficios_DWH|IdFechaInicio|IdFechaFin|Cambio|\n",
      "+-------------------+---------------------------+-------------+----------+------+\n",
      "|1                  |1                          |2017-01-01   |2017-12-31|1     |\n",
      "|1                  |10                         |2018-01-01   |2019-12-31|1     |\n",
      "|1                  |2                          |2020-01-01   |2999-12-31|1     |\n",
      "|2                  |3                          |2017-01-01   |2017-12-31|1     |\n",
      "|2                  |92                         |2018-01-01   |2018-12-31|1     |\n",
      "|2                  |4                          |2019-01-01   |2020-12-31|1     |\n",
      "|2                  |26                         |2021-01-01   |2999-12-31|1     |\n",
      "|3                  |5                          |2019-01-01   |2999-12-31|1     |\n",
      "|4                  |2                          |2018-01-01   |2999-12-31|1     |\n",
      "|5                  |6                          |2017-01-01   |2019-12-31|1     |\n",
      "|5                  |1                          |2020-01-01   |2999-12-31|1     |\n",
      "|6                  |6                          |2017-01-01   |2999-12-31|1     |\n",
      "|7                  |6                          |2018-01-01   |2999-12-31|1     |\n",
      "|8                  |7                          |2017-01-01   |2999-12-31|1     |\n",
      "|9                  |8                          |2017-01-01   |2019-12-31|1     |\n",
      "|9                  |9                          |2020-01-01   |2999-12-31|1     |\n",
      "|10                 |8                          |2017-01-01   |2019-12-31|1     |\n",
      "|10                 |9                          |2020-01-01   |2999-12-31|1     |\n",
      "|11                 |6                          |2017-01-01   |2999-12-31|1     |\n",
      "|12                 |88                         |2017-01-01   |2017-12-31|1     |\n",
      "+-------------------+---------------------------+-------------+----------+------+\n",
      "only showing top 20 rows\n",
      "\n"
     ]
    }
   ],
   "source": [
    "# Seleccionar las columnas en el orden correcto y el formato de fecha adecuado\n",
    "HechoHistoricoCondicionesTiposBeneficio = HechoHistoricoCondicionesTiposBeneficio.select(\n",
    "    col(\"IdTipoBeneficio_DWH\"),\n",
    "    col(\"IdCondicionesBeneficios_DWH\"),\n",
    "    f.date_format(col(\"IdFechaInicio\"), \"yyyy-MM-dd\").alias(\"IdFechaInicio\"),\n",
    "    col(\"IdFechaFin\"), \n",
    "    col(\"Cambio\")\n",
    ")\n",
    "\n",
    "# Ordenar y mostrar el resultado\n",
    "HechoHistoricoCondicionesTiposBeneficio.orderBy(\"IdTipoBeneficio_DWH\", \"IdFechaInicio\").show(truncate=False)"
   ]
  },
  {
   "cell_type": "markdown",
   "metadata": {},
   "source": [
    "#### Carga inicial de la dimensión HechoHistoricoCondicionesTiposBeneficio\n",
    "El cargue inicial solo se realiza una vez, mientras que el incremental se realiza en cada reporte de negocio de datos en un periodo de tiempo"
   ]
  },
  {
   "cell_type": "code",
   "execution_count": 77,
   "metadata": {},
   "outputs": [],
   "source": [
    "# Cargue\n",
    "guardar_db(grupo_connection_string, HechoHistoricoCondicionesTiposBeneficio,'Proyecto_G9_202315.HechoHistCondicionesTiposBeneficio', db_user, db_psswd)"
   ]
  },
  {
   "cell_type": "markdown",
   "metadata": {},
   "source": [
    "### Fecha"
   ]
  },
  {
   "cell_type": "code",
   "execution_count": 21,
   "metadata": {},
   "outputs": [
    {
     "name": "stdout",
     "output_type": "stream",
     "text": [
      "La tabla ha sido borrada exitosamente.\n"
     ]
    }
   ],
   "source": [
    "## Borrar la tabla Fecha para que cargue de manera automática \n",
    "try:\n",
    "    # Conexión a la base de datos\n",
    "    conexion = mysql.connector.connect(\n",
    "          host=\"157.253.236.116\",\n",
    "          port=\"8080\",\n",
    "        database='Proyecto_G9_202315',\n",
    "        user=db_user,\n",
    "        password=db_psswd\n",
    "    )\n",
    "\n",
    "    if conexion.is_connected():\n",
    "        # Crear un cursor\n",
    "        cursor = conexion.cursor()\n",
    "\n",
    "        # Sentencia SQL para borrar la tabla\n",
    "        sentencia_borrar_tabla = \"DROP TABLE IF EXISTS Proyecto_G9_202315.Fecha\"\n",
    "\n",
    "        # Ejecutar la sentencia\n",
    "        cursor.execute(sentencia_borrar_tabla)\n",
    "        print(\"La tabla ha sido borrada exitosamente.\")\n",
    "\n",
    "        # Cerrar el cursor y la conexión\n",
    "        cursor.close()\n",
    "        conexion.close()\n",
    "\n",
    "except Error as e:\n",
    "    print(\"Error durante la conexión:\", e)"
   ]
  },
  {
   "cell_type": "code",
   "execution_count": 22,
   "metadata": {},
   "outputs": [
    {
     "name": "stdout",
     "output_type": "stream",
     "text": [
      "+--------+----------+---+---+-----+-----------------+\n",
      "|ID_Fecha|     Fecha|Dia|Mes|Anioa|Numero_semana_ISO|\n",
      "+--------+----------+---+---+-----+-----------------+\n",
      "|20171231|2017/12/31| 31| 12| 2017|               52|\n",
      "|20191231|2019/12/31| 31| 12| 2019|                1|\n",
      "|20201231|2020/12/31| 31| 12| 2020|               53|\n",
      "|20211231|2021/12/31| 31| 12| 2021|               52|\n",
      "|20181231|2018/12/31| 31| 12| 2018|                1|\n",
      "|20170101|2017/01/01|  1|  1| 2017|               52|\n",
      "|20180101|2018/01/01|  1|  1| 2018|                1|\n",
      "|20200101|2020/01/01|  1|  1| 2020|                1|\n",
      "|20190101|2019/01/01|  1|  1| 2019|                1|\n",
      "|20210101|2021/01/01|  1|  1| 2021|               53|\n",
      "+--------+----------+---+---+-----+-----------------+\n",
      "only showing top 10 rows\n",
      "\n"
     ]
    }
   ],
   "source": [
    "sql_fecha = \"\"\"(\n",
    "SELECT \n",
    "CASE \n",
    "\tWHEN Fecha LIKE '%,%' THEN\n",
    "      DATE_FORMAT(STR_TO_DATE(Fecha, '%b %d,%Y'), '%Y%m%d')\n",
    "    WHEN Fecha LIKE '%/%' THEN \n",
    "      DATE_FORMAT(STR_TO_DATE(Fecha, '%d/%m/%Y %H:%i:%s'), '%Y%m%d')\n",
    "    WHEN Fecha LIKE '% %' THEN \n",
    "      DATE_FORMAT(Fecha, '%Y%m%d')\n",
    "    WHEN Fecha LIKE '%-%' THEN \n",
    "      DATE_FORMAT(Fecha, '%Y%m%d')\n",
    "\tElse Fecha \n",
    "  END AS ID_Fecha, \n",
    "CASE \n",
    "\tWHEN Fecha LIKE '%,%' THEN\n",
    "      DATE_FORMAT(STR_TO_DATE(Fecha, '%b %d,%Y'), '%Y/%m/%d')\n",
    "    WHEN Fecha LIKE '%/%' THEN \n",
    "      DATE_FORMAT(STR_TO_DATE(Fecha, '%d/%m/%Y %H:%i:%s'), '%Y/%m/%d')\n",
    "    WHEN Fecha LIKE '% %' THEN \n",
    "      DATE_FORMAT(Fecha, '%Y/%m/%d') \n",
    "    WHEN Fecha LIKE '%-%' THEN \n",
    "      DATE_FORMAT(Fecha, '%Y/%m/%d') \n",
    "\tElse Fecha \n",
    "  END AS Fecha, \n",
    "  DAY(CASE \n",
    "\tWHEN Fecha LIKE '%,%' THEN\n",
    "      DATE_FORMAT(STR_TO_DATE(Fecha, '%b %d,%Y'), '%Y/%m/%d')\n",
    "    WHEN Fecha LIKE '%/%' THEN \n",
    "      DATE_FORMAT(STR_TO_DATE(Fecha, '%d/%m/%Y %H:%i:%s'), '%Y/%m/%d')\n",
    "    WHEN Fecha LIKE '% %' THEN \n",
    "      DATE_FORMAT(Fecha, '%Y/%m/%d')\n",
    "\tElse Fecha \n",
    "  END) AS Dia, \n",
    "  MONTH(CASE \n",
    "\tWHEN Fecha LIKE '%,%' THEN\n",
    "      DATE_FORMAT(STR_TO_DATE(Fecha, '%b %d,%Y'), '%Y/%m/%d')\n",
    "    WHEN Fecha LIKE '%/%' THEN \n",
    "      DATE_FORMAT(STR_TO_DATE(Fecha, '%d/%m/%Y %H:%i:%s'), '%Y/%m/%d')\n",
    "    WHEN Fecha LIKE '% %' THEN \n",
    "      DATE_FORMAT(Fecha, '%Y/%m/%d')\n",
    "\tElse Fecha \n",
    "  END) AS Mes, \n",
    "  YEAR(CASE \n",
    "\tWHEN Fecha LIKE '%,%' THEN\n",
    "      DATE_FORMAT(STR_TO_DATE(Fecha, '%b %d,%Y'), '%Y/%m/%d')\n",
    "    WHEN Fecha LIKE '%/%' THEN \n",
    "      DATE_FORMAT(STR_TO_DATE(Fecha, '%d/%m/%Y %H:%i:%s'), '%Y/%m/%d')\n",
    "    WHEN Fecha LIKE '% %' THEN \n",
    "      DATE_FORMAT(Fecha, '%Y/%m/%d')\n",
    "\tElse Fecha \n",
    "  END) AS Anioa, \n",
    "  WEEK(CASE \n",
    "\tWHEN Fecha LIKE '%,%' THEN\n",
    "      DATE_FORMAT(STR_TO_DATE(Fecha, '%b %d,%Y'), '%Y/%m/%d')\n",
    "    WHEN Fecha LIKE '%/%' THEN \n",
    "      DATE_FORMAT(STR_TO_DATE(Fecha, '%d/%m/%Y %H:%i:%s'), '%Y/%m/%d')\n",
    "    WHEN Fecha LIKE '% %' THEN \n",
    "      DATE_FORMAT(Fecha, '%Y/%m/%d')\n",
    "\tElse Fecha \n",
    "  END, 3) AS Numero_semana_ISO    \n",
    "FROM (\n",
    "SELECT DISTINCT Fecha FROM RaSaTransaccional_ETL.FuentePlanesBeneficio_ETL \n",
    "UNION ALL \n",
    "SELECT DISTINCT IdFechaInicio FROM Proyecto_G9_202315.HechoHistCondicionesTiposBeneficio \n",
    "UNION ALL \n",
    "SELECT DISTINCT IdFechaFin FROM Proyecto_G9_202315.HechoHistCondicionesTiposBeneficio \n",
    ") AS Fechas \n",
    "GROUP BY \n",
    "CASE \n",
    "\tWHEN Fecha LIKE '%,%' THEN\n",
    "      DATE_FORMAT(STR_TO_DATE(Fecha, '%b %d,%Y'), '%Y%m%d')\n",
    "    WHEN Fecha LIKE '%/%' THEN \n",
    "      DATE_FORMAT(STR_TO_DATE(Fecha, '%d/%m/%Y %H:%i:%s'), '%Y%m%d')\n",
    "    WHEN Fecha LIKE '% %' THEN \n",
    "      DATE_FORMAT(Fecha, '%Y%m%d') \n",
    "    WHEN Fecha LIKE '%-%' THEN \n",
    "      DATE_FORMAT(Fecha, '%Y%m%d')\n",
    "\tElse Fecha \n",
    "  END, \n",
    "CASE \n",
    "\tWHEN Fecha LIKE '%,%' THEN\n",
    "      DATE_FORMAT(STR_TO_DATE(Fecha, '%b %d,%Y'), '%Y/%m/%d')\n",
    "    WHEN Fecha LIKE '%/%' THEN \n",
    "      DATE_FORMAT(STR_TO_DATE(Fecha, '%d/%m/%Y %H:%i:%s'), '%Y/%m/%d')\n",
    "    WHEN Fecha LIKE '% %' THEN \n",
    "      DATE_FORMAT(Fecha, '%Y/%m/%d') \n",
    "    WHEN Fecha LIKE '%-%' THEN \n",
    "      DATE_FORMAT(Fecha, '%Y/%m/%d') \n",
    "\tElse Fecha \n",
    "  END, \n",
    "  DAY(CASE \n",
    "\tWHEN Fecha LIKE '%,%' THEN\n",
    "      DATE_FORMAT(STR_TO_DATE(Fecha, '%b %d,%Y'), '%Y/%m/%d')\n",
    "    WHEN Fecha LIKE '%/%' THEN \n",
    "      DATE_FORMAT(STR_TO_DATE(Fecha, '%d/%m/%Y %H:%i:%s'), '%Y/%m/%d')\n",
    "    WHEN Fecha LIKE '% %' THEN \n",
    "      DATE_FORMAT(Fecha, '%Y/%m/%d')\n",
    "\tElse Fecha \n",
    "  END), \n",
    "  MONTH(CASE \n",
    "\tWHEN Fecha LIKE '%,%' THEN\n",
    "      DATE_FORMAT(STR_TO_DATE(Fecha, '%b %d,%Y'), '%Y/%m/%d')\n",
    "    WHEN Fecha LIKE '%/%' THEN \n",
    "      DATE_FORMAT(STR_TO_DATE(Fecha, '%d/%m/%Y %H:%i:%s'), '%Y/%m/%d')\n",
    "    WHEN Fecha LIKE '% %' THEN \n",
    "      DATE_FORMAT(Fecha, '%Y/%m/%d')\n",
    "\tElse Fecha \n",
    "  END), \n",
    "  YEAR(CASE \n",
    "\tWHEN Fecha LIKE '%,%' THEN\n",
    "      DATE_FORMAT(STR_TO_DATE(Fecha, '%b %d,%Y'), '%Y/%m/%d')\n",
    "    WHEN Fecha LIKE '%/%' THEN \n",
    "      DATE_FORMAT(STR_TO_DATE(Fecha, '%d/%m/%Y %H:%i:%s'), '%Y/%m/%d')\n",
    "    WHEN Fecha LIKE '% %' THEN \n",
    "      DATE_FORMAT(Fecha, '%Y/%m/%d')\n",
    "\tElse Fecha \n",
    "  END), \n",
    "  WEEK(CASE \n",
    "\tWHEN Fecha LIKE '%,%' THEN\n",
    "      DATE_FORMAT(STR_TO_DATE(Fecha, '%b %d,%Y'), '%Y/%m/%d')\n",
    "    WHEN Fecha LIKE '%/%' THEN \n",
    "      DATE_FORMAT(STR_TO_DATE(Fecha, '%d/%m/%Y %H:%i:%s'), '%Y/%m/%d')\n",
    "    WHEN Fecha LIKE '% %' THEN \n",
    "      DATE_FORMAT(Fecha, '%Y/%m/%d')\n",
    "\tElse Fecha \n",
    "  END, 3)  \n",
    ") AS Temp_fechas\"\"\"\n",
    "fechas = obtener_dataframe_de_bd(grupo_connection_string, sql_fecha, db_user, db_psswd)\n",
    "fechas.show(10)"
   ]
  },
  {
   "cell_type": "code",
   "execution_count": 23,
   "metadata": {},
   "outputs": [],
   "source": [
    "# CARGUE\n",
    "guardar_db(grupo_connection_string, fechas,'Proyecto_G9_202315.Fecha', db_user, db_psswd)"
   ]
  },
  {
   "cell_type": "markdown",
   "metadata": {},
   "source": [
    "## 4. Cierre\n",
    "Completado este tutorial, sabe cómo configurar y realizar ETLs con historia en PySpark.\n"
   ]
  },
  {
   "cell_type": "markdown",
   "metadata": {},
   "source": [
    "## 5. Información adicional\n",
    "\n",
    "Si quiere conocer más sobre PySpark la guía más detallada es la documentación oficial, la cual puede encontrar acá: https://spark.apache.org/docs/latest/api/python/index.html <br>\n",
    "Para ir directamente a la documentación de PySpark SQL, donde está la información sobre los DataFrames, haga clic en este enlace: https://spark.apache.org/docs/latest/api/python/pyspark.sql.html <br>\n",
    "\n",
    "Para saber más sobre las técnicas de manejo de historia, consulte el libro <i>The  Data Warehouse Toolkit</i> de Ralph Kimball y Margy Ross,que podrá encontrar en la biblioteca de la universidad."
   ]
  },
  {
   "cell_type": "markdown",
   "metadata": {},
   "source": [
    "## 6. Preguntas frecuentes\n",
    "\n",
    "- Si al intentar escribir un <i>dataframe</i> obtiene un error en el formato: \n",
    "    ```\n",
    "    path file:<PATH>/dw/<PATH> already exists.;\n",
    "    ```\n",
    "    Borre la carpeta indicada en el error y vuelva a intentar.\n",
    "\n",
    "- Si al ejecutar su código obtiene el error: \n",
    "    ```\n",
    "    ValueError: Cannot run multiple SparkContexts at once; existing SparkContext(app=tutorial ETL PySpark, master=local) created by __init__ at <ipython-input-4-64455da959dd>:92 \n",
    "\n",
    "    ```\n",
    "    reinicie el kernel del notebook y vuelva a intentar."
   ]
  }
 ],
 "metadata": {
  "kernelspec": {
   "display_name": "Python 3 (ipykernel)",
   "language": "python",
   "name": "python3"
  },
  "language_info": {
   "codemirror_mode": {
    "name": "ipython",
    "version": 3
   },
   "file_extension": ".py",
   "mimetype": "text/x-python",
   "name": "python",
   "nbconvert_exporter": "python",
   "pygments_lexer": "ipython3",
   "version": "3.7.13"
  }
 },
 "nbformat": 4,
 "nbformat_minor": 4
}
