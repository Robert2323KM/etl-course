{
 "cells": [
  {
   "cell_type": "markdown",
   "metadata": {
    "id": "YLE3Y7VOPn3G"
   },
   "source": [
    "# Tutorial: Entendimiento de los datos con PySpark"
   ]
  },
  {
   "cell_type": "markdown",
   "metadata": {
    "id": "V3leWyj9Pn3L"
   },
   "source": [
    "Continuando con el proyecto de consultoria de Wide World Importers, el primer paso para iniciar la comprensión de los datos es explorar y entender las fuentes de datos disponibles. Note que esto también nos ayuda a comprender mejor la organización."
   ]
  },
  {
   "cell_type": "markdown",
   "metadata": {
    "id": "dm33nuYTPn3L"
   },
   "source": [
    "## Configuración e importe de paquetes\n",
    "Se utilizará el paquete de pandas profiling para apoyar el análisis estadístico, y se importan los paquetes de python\n",
    "necesarios"
   ]
  },
  {
   "cell_type": "code",
   "execution_count": 1,
   "metadata": {
    "id": "gGiDdRBNPn3M"
   },
   "outputs": [
    {
     "name": "stderr",
     "output_type": "stream",
     "text": [
      "C:\\Users\\estudiante\\anaconda3\\envs\\Tutoriales\\lib\\site-packages\\tqdm\\auto.py:22: TqdmWarning: IProgress not found. Please update jupyter and ipywidgets. See https://ipywidgets.readthedocs.io/en/stable/user_install.html\n",
      "  from .autonotebook import tqdm as notebook_tqdm\n"
     ]
    }
   ],
   "source": [
    "from pyspark.sql import SparkSession\n",
    "from pyspark.sql import functions\n",
    "from pyspark.sql.types import StructType\n",
    "from pyspark import SparkContext, SparkConf, SQLContext\n",
    "from pyspark.sql.types import FloatType, StringType, IntegerType, DateType\n",
    "from pyspark.sql.functions import udf, col, length, isnan, when, count\n",
    "import pyspark.sql.functions as f\n",
    "import os \n",
    "from datetime import datetime\n",
    "from pyspark.sql import types as t\n",
    "from pandas_profiling import ProfileReport\n",
    "import matplotlib\n",
    "import matplotlib.pyplot as plt\n",
    "import numpy as np"
   ]
  },
  {
   "cell_type": "code",
   "execution_count": 2,
   "metadata": {},
   "outputs": [],
   "source": [
    "plt.rcParams['figure.max_open_warning'] = 30  # or any other number \n",
    "matplotlib.use('TkAgg')  # Usando el backend TkAgg"
   ]
  },
  {
   "cell_type": "markdown",
   "metadata": {
    "id": "Tyk0YmZRPn3N"
   },
   "source": [
    "Configuración del controlador e inicio de sesion Spark"
   ]
  },
  {
   "cell_type": "code",
   "execution_count": 3,
   "metadata": {
    "id": "0r-yix1rPn3O"
   },
   "outputs": [],
   "source": [
    "path_jar_driver = 'C:\\Program Files (x86)\\MySQL\\Connector J 8.0\\mysql-connector-java-8.0.28.jar'"
   ]
  },
  {
   "cell_type": "code",
   "execution_count": 4,
   "metadata": {
    "id": "0-m3Q2MtPn3O",
    "outputId": "459f0ec2-9a36-4a36-edac-427852524d95"
   },
   "outputs": [
    {
     "name": "stderr",
     "output_type": "stream",
     "text": [
      "C:\\Users\\estudiante\\anaconda3\\envs\\Tutoriales\\lib\\site-packages\\pyspark\\sql\\context.py:79: FutureWarning: Deprecated in 3.0.0. Use SparkSession.builder.getOrCreate() instead.\n",
      "  FutureWarning\n"
     ]
    }
   ],
   "source": [
    "#Configuración de la sesión\n",
    "conf=SparkConf() \\\n",
    "    .set('spark.driver.extraClassPath', path_jar_driver)\n",
    "\n",
    "spark_context = SparkContext(conf=conf)\n",
    "sql_context = SQLContext(spark_context)\n",
    "spark = sql_context.sparkSession"
   ]
  },
  {
   "cell_type": "code",
   "execution_count": 5,
   "metadata": {
    "id": "0eQw66SIPn3P"
   },
   "outputs": [],
   "source": [
    "# Si quiere practicar la conexion con el servidor de base de datos:\n",
    "db_connection_string = 'jdbc:mysql://157.253.236.116:8080/WWImportersTransactional'\n",
    "# El usuario es su estudiante _i asignado y su contraseña la encontrará en el archivo excel de Coursera \n",
    "db_user = 'Estudiante_67_202315'\n",
    "db_psswd = 'aabb1122'\n",
    "\n",
    "PATH='./'"
   ]
  },
  {
   "cell_type": "markdown",
   "metadata": {
    "id": "Xw96w3ywPn3R"
   },
   "source": [
    "### Conexión a fuente de datos y acceso a los datos"
   ]
  },
  {
   "cell_type": "markdown",
   "metadata": {
    "id": "LKHpN3nzPn3R"
   },
   "source": [
    "#### Conexión a fuente de datos\n",
    "A continuación encuentra las funciones para conectarse a la fuente de datos (archivo csv o base de datos) y retornar un dataframe que es el que se utilizará posteriormente para manipular los datos."
   ]
  },
  {
   "cell_type": "code",
   "execution_count": 6,
   "metadata": {
    "id": "SsdwInchPn3R"
   },
   "outputs": [],
   "source": [
    "def obtener_dataframe_de_bd(db_connection_string, sql, db_user, db_psswd):\n",
    "    df_bd = spark.read.format('jdbc')\\\n",
    "        .option('url', db_connection_string) \\\n",
    "        .option('dbtable', sql) \\\n",
    "        .option('user', db_user) \\\n",
    "        .option('password', db_psswd) \\\n",
    "        .option('driver', 'com.mysql.cj.jdbc.Driver') \\\n",
    "        .load()\n",
    "    return df_bd"
   ]
  },
  {
   "cell_type": "markdown",
   "metadata": {
    "id": "3HZloEq5Pn3S"
   },
   "source": [
    "#### Cargue de datos\n",
    "Para consultar desde la base de datos se puede acceder directamente a la tabla dado su nombre o se puede especificar la sentencia SQL de un \"SELECT\" completo para traer la información total o parcial de la tabla que se requiere. A continuación un ejemplo de cada uno de estos usos. \n",
    "Acceso directo para el caso de órdenes y acceso con sentencia SQL para el caso de detallesOrdenes."
   ]
  },
  {
   "cell_type": "markdown",
   "metadata": {
    "id": "QgkzeSm4Pn3b"
   },
   "source": [
    "### Completitud y validez"
   ]
  },
  {
   "cell_type": "code",
   "execution_count": 7,
   "metadata": {
    "id": "mIWH-vVoPn3b"
   },
   "outputs": [],
   "source": [
    "def contar_vacios(df):\n",
    "    resultados = []\n",
    "    for c in df.columns:\n",
    "        vacios = df.filter(df[c].isNull()).count()\n",
    "        if vacios!=0:\n",
    "            print('número de vacíos para columna '+c+': '+str( vacios ))\n",
    "            resultados.append(vacios)\n",
    "    return resultados \n",
    "\n",
    "# Checking \"\" values \n",
    "def contar_vacios_str(df, printing = True):\n",
    "    resultados = []\n",
    "    for c in df.columns:\n",
    "        vacios = df.filter((df[c] == \"\")).count()\n",
    "        if vacios != 0: \n",
    "            if printing: \n",
    "                print('Number of \"\" values for column ' + c + ': ' + str(vacios))\n",
    "            resultados.append(vacios)\n",
    "    return resultados \n",
    "\n",
    "\n",
    "def cardinalidad(df):\n",
    "    resultado = {}\n",
    "    for c in df.columns:\n",
    "        cardinalidad = df.select(col(c)).distinct().count()\n",
    "        if cardinalidad>=df.count()*0.5:\n",
    "            resultado[c] = cardinalidad\n",
    "    return resultado"
   ]
  },
  {
   "cell_type": "markdown",
   "metadata": {
    "id": "cpWpho0CPn3f"
   },
   "source": [
    "# 5. Tarea\n",
    "Espacio para desarrollar la tarea propuesta "
   ]
  },
  {
   "cell_type": "markdown",
   "metadata": {
    "id": "IPhtXcD1Pn3g"
   },
   "source": [
    "### Perfilamiento de datos"
   ]
  },
  {
   "cell_type": "markdown",
   "metadata": {},
   "source": [
    "#### Entendimiento general de datos"
   ]
  },
  {
   "cell_type": "code",
   "execution_count": 8,
   "metadata": {
    "id": "0JCXGvj0Pn3g"
   },
   "outputs": [
    {
     "name": "stdout",
     "output_type": "stream",
     "text": [
      "+---------------------+----------+-----------------+---------+---------+-----------+---------------+----------------+--------+\n",
      "|TransaccionProductoID|ProductoID|TipoTransaccionID|ClienteID|InvoiceID|ProveedorID|OrdenDeCompraID|FechaTransaccion|Cantidad|\n",
      "+---------------------+----------+-----------------+---------+---------+-----------+---------------+----------------+--------+\n",
      "|               118903|       217|               10|    476.0|  24904.0|           |               |     Apr 25,2014|   -40.0|\n",
      "|               286890|       135|               10|     33.0|  60117.0|           |               |     Dec 10,2015|    -7.0|\n",
      "|               285233|       111|               10|    180.0|  59768.0|           |               |     Dec 04,2015|    -2.0|\n",
      "|               290145|       213|               10|     33.0|  60795.0|           |               |     Dec 23,2015|    -3.0|\n",
      "|               247492|        90|               10|     55.0|  51851.0|           |               |     Jul 27,2015|   -24.0|\n",
      "+---------------------+----------+-----------------+---------+---------+-----------+---------------+----------------+--------+\n",
      "only showing top 5 rows\n",
      "\n"
     ]
    }
   ],
   "source": [
    "# Getting Df from WWImportersTransactional.movimientosCopia \n",
    "sql_movimientosCopia = 'WWImportersTransactional.movimientosCopia'\n",
    "movimientosCopia = obtener_dataframe_de_bd(db_connection_string, sql_movimientosCopia, db_user, db_psswd) \n",
    "# Exploring the table \n",
    "movimientosCopia.show(5) "
   ]
  },
  {
   "cell_type": "code",
   "execution_count": 9,
   "metadata": {},
   "outputs": [
    {
     "name": "stdout",
     "output_type": "stream",
     "text": [
      "Columns' type\n",
      "StructType(List(StructField(TransaccionProductoID,IntegerType,true),StructField(ProductoID,IntegerType,true),StructField(TipoTransaccionID,IntegerType,true),StructField(ClienteID,DoubleType,true),StructField(InvoiceID,DoubleType,true),StructField(ProveedorID,StringType,true),StructField(OrdenDeCompraID,StringType,true),StructField(FechaTransaccion,StringType,true),StructField(Cantidad,DoubleType,true)))\n",
      "\n",
      " Df's dimensions\n",
      "(204292, 9)\n"
     ]
    }
   ],
   "source": [
    "# Getting each column's type \n",
    "print(\"Columns' type\") \n",
    "print(movimientosCopia.schema) \n",
    "# Printing df's dimensions \n",
    "print(\"\\n Df's dimensions\") \n",
    "print((movimientosCopia.count(), len(movimientosCopia.columns))) "
   ]
  },
  {
   "cell_type": "markdown",
   "metadata": {},
   "source": [
    "#### Revisión de reglas de negocio"
   ]
  },
  {
   "cell_type": "code",
   "execution_count": 10,
   "metadata": {},
   "outputs": [
    {
     "name": "stdout",
     "output_type": "stream",
     "text": [
      "\n",
      "1) The maximum amount of products moved is 50 million per transaction \n",
      "Max Value for 'Cantidad': 67368.0\n",
      "\n",
      "2) There are 236,668 product movements carried out since 2013\n",
      "\n",
      "Amount of registers: 204292\n",
      "Min Date:\n",
      "Minimum date 'FechaTransaccion': 2013-12-31 07:00:00.0000000\n",
      "\n",
      "3) The movements are related to 228,265 clients\n",
      "\n",
      "Number of distinct clients: 204292\n",
      "\n",
      "4) The date format used is YYYY-MM-DD HH:MM:SS\n",
      "\n",
      "Total number of orders: 204292, number of orders with correct format: 140038\n",
      "+----------------+\n",
      "|FechaTransaccion|\n",
      "+----------------+\n",
      "|     Apr 25,2014|\n",
      "|     Dec 10,2015|\n",
      "|     Dec 04,2015|\n",
      "|     Dec 23,2015|\n",
      "|     Jul 27,2015|\n",
      "|     Sep 15,2014|\n",
      "|     Aug 04,2015|\n",
      "|     Feb 23,2015|\n",
      "|     May 01,2015|\n",
      "|     Jan 08,2016|\n",
      "|     Mar 26,2014|\n",
      "|     Jul 31,2015|\n",
      "|     Sep 02,2014|\n",
      "|     Mar 15,2016|\n",
      "|     May 28,2016|\n",
      "|     Sep 09,2015|\n",
      "|     May 23,2014|\n",
      "|     Aug 20,2014|\n",
      "|     Jan 21,2015|\n",
      "|     Dec 29,2015|\n",
      "+----------------+\n",
      "only showing top 20 rows\n",
      "\n",
      "Number of rows that doesn't fit the correct format: 64254\n",
      "Checking if there are some different values in the column: \n",
      "+---------------------+----------+-----------------+---------+---------+-----------+---------------+----------------+--------+\n",
      "|TransaccionProductoID|ProductoID|TipoTransaccionID|ClienteID|InvoiceID|ProveedorID|OrdenDeCompraID|FechaTransaccion|Cantidad|\n",
      "+---------------------+----------+-----------------+---------+---------+-----------+---------------+----------------+--------+\n",
      "+---------------------+----------+-----------------+---------+---------+-----------+---------------+----------------+--------+\n",
      "\n",
      "\n",
      "5) We currently have 13 suppliers\n",
      "There are 0 rows that have ProveedorID == ClienteID\n",
      "There are 4 distinct ProveedorID\n"
     ]
    },
    {
     "data": {
      "text/plain": [
       "\"\\n    There are only 4 different suppliers so this rule isn't satisfied. Maybe \\n    this reinforces the idea that there are missing values!  \\n\""
      ]
     },
     "execution_count": 10,
     "metadata": {},
     "output_type": "execute_result"
    }
   ],
   "source": [
    "\"\"\"\n",
    "    1) The maximum amount of products moved is 50 million per transaction \n",
    "\"\"\"\n",
    "print(\"\\n1) The maximum amount of products moved is 50 million per transaction \".center(20, '*')) \n",
    "max_valor = movimientosCopia.agg({\"Cantidad\": \"max\"}).collect()[0][0]\n",
    "# Printing the max value \n",
    "print(\"Max Value for 'Cantidad':\", max_valor)\n",
    "\n",
    "\"\"\"\n",
    "    Given that the maximum value for 'cantidad' in a transaction is \n",
    "    67,368.0, it can be assumed that this rule hasn't been broken, and \n",
    "    as of now, there are no transactions that exceed this limit.\n",
    "\"\"\"\n",
    "\n",
    "\"\"\"\n",
    "    2) There are 236,668 product movements carried out since 2013 \n",
    "\"\"\"\n",
    "print(\"\\n2) There are 236,668 product movements carried out since 2013\".center(20, '*')) \n",
    "\n",
    "print(f\"\\nAmount of registers: {movimientosCopia.count()}\") \n",
    "print(\"Min Date:\")\n",
    "min_fecha = movimientosCopia.agg({\"FechaTransaccion\": \"min\"}).collect()[0][0]\n",
    "\n",
    "# Print the min date \n",
    "print(\"Minimum date 'FechaTransaccion':\", min_fecha)\n",
    "\"\"\"\n",
    "    It was said that there were 236,668 product movements, but based on \n",
    "    the actual dimensions, it appears to be only 204,292. Additionally, \n",
    "    it was mentioned that the minimum date was in 2013, and in a way, \n",
    "    this is accurate since the first transaction occurred on 2013-12-31 \n",
    "    07:00:00.0000000. Therefore, this part of the rule can be considered \n",
    "    valid.\n",
    "\"\"\"\n",
    "\n",
    "\"\"\"\n",
    "    3) The movements are related to 228,265 clients\n",
    "\"\"\" \n",
    "print(\"\\n3) The movements are related to 228,265 clients\".center(20, '*')) \n",
    "# Getting the number of different ClienteID\n",
    "client_count = movimientosCopia.select(\"ClienteID\").count() \n",
    "print(f\"\\nNumber of distinct clients: {client_count}\") \n",
    "\n",
    "\"\"\"\n",
    "    There are 204,292 distinct clients, so this rule isn't true. It will \n",
    "    needed to ask about this rule to know if there are missing info \n",
    "    because of this difference and also the minimum transaction date \n",
    "    dilemma and maybe the first one since the max \"Cantidad\" value \n",
    "    isn't even near to the limit stablished by the rule. \n",
    "\"\"\"\n",
    "\n",
    "\"\"\"\n",
    "    4) The date format used is YYYY-MM-DD HH:MM:SS \n",
    "\"\"\" \n",
    "print(\"\\n4) The date format used is YYYY-MM-DD HH:MM:SS\".center(20, '*')) \n",
    "\n",
    "# Filtering those columns that satisfied the format \n",
    "regex = \"[0-2]\\d{3}-(0[1-9]|1[0-2])-(0[1-9]|[1-2][0-9]|3[0-1])\"\n",
    "fulfillsFormat_FT = movimientosCopia.filter(movimientosCopia[\"FechaTransaccion\"].rlike(regex)) \n",
    "print(\"\\nTotal number of orders: \" + str(movimientosCopia.count()) + \", number of orders with correct format: \" + str(fulfillsFormat_FT.count()))\n",
    "\n",
    "# Checking those rows that doesn't fit the format \n",
    "noFulfillsFormat_FT = movimientosCopia.filter(~movimientosCopia[\"FechaTransaccion\"].rlike(regex)) \n",
    "noFulfillsFormat_FT.count(), noFulfillsFormat_FT.select(col(\"FechaTransaccion\")).show() \n",
    "print(f\"Number of rows that doesn't fit the correct format: {noFulfillsFormat_FT.count()}\") \n",
    "\n",
    "# Checking if there are another different kind of values in this column \n",
    "print(f\"Checking if there are some different values in the column: \")\n",
    "movimientosCopia.where(length(col(\"FechaTransaccion\")) <= 10).show()\n",
    "\n",
    "\"\"\"\n",
    "   There are identified 64,254 entries that deviate from the specified date \n",
    "   format. However, it appears that these discrepancies are solely due \n",
    "   to differences in formatting. These issues can be easily resolved, so \n",
    "   notifying the business is more about providing information rather \n",
    "   than seeking clarification. \n",
    "   \n",
    "\"\"\"\n",
    "\n",
    "\"\"\"\n",
    "    5) We currently have 13 suppliers\n",
    "\"\"\" \n",
    "print(\"\\n5) We currently have 13 suppliers\".center(20, '*'))  \n",
    "\n",
    "# Checking if there are some errors on the column ProveedorID\n",
    "filtered_df = movimientosCopia.filter(movimientosCopia[\"ProveedorID\"] == movimientosCopia[\"ClienteID\"])\n",
    "\n",
    "# Perform the count operation\n",
    "result_count = filtered_df.count() \n",
    "\n",
    "print(f\"There are {result_count} rows that have ProveedorID == ClienteID\") \n",
    "\n",
    "# Getting the number of different ProveedorID \n",
    "result_count = movimientosCopia.select(\"ProveedorID\").distinct().count() \n",
    "print(f\"There are {result_count} distinct ProveedorID\") \n",
    "\n",
    "\"\"\"\n",
    "    There are only 4 different suppliers so this rule isn't satisfied. Maybe \n",
    "    this reinforces the idea that there are missing values!  \n",
    "\"\"\""
   ]
  },
  {
   "cell_type": "markdown",
   "metadata": {},
   "source": [
    "### Análisis descriptivo"
   ]
  },
  {
   "cell_type": "code",
   "execution_count": 11,
   "metadata": {},
   "outputs": [
    {
     "name": "stdout",
     "output_type": "stream",
     "text": [
      "+-------+---------------------+------------------+-------------------+------------------+-----------------+-----------------+------------------+--------------------+-----------------+\n",
      "|summary|TransaccionProductoID|        ProductoID|  TipoTransaccionID|         ClienteID|        InvoiceID|      ProveedorID|   OrdenDeCompraID|    FechaTransaccion|         Cantidad|\n",
      "+-------+---------------------+------------------+-------------------+------------------+-----------------+-----------------+------------------+--------------------+-----------------+\n",
      "|  count|               204292|            204292|             204292|            204292|           204292|           204292|            204292|              204292|           204292|\n",
      "|   mean|   212458.04047637695|110.70090850351458| 10.035253460732676| 517.3252941867523|42957.26929590978|4.951898734177215|1345.9973277074544|                null|719.4997650421946|\n",
      "| stddev|    71352.37579752573| 63.49014746219581|0.18563716955046372|353.50136995999276| 16826.9772221931|1.406311225432683|420.37740964792835|                null| 4729.36659747762|\n",
      "|    min|                89146|                 1|                 10|               0.0|              0.0|                 |                  |2013-12-31 07:00:...|           -360.0|\n",
      "|    25%|               150639|                56|                 10|             145.0|          30120.0|              4.0|             986.0|                null|            -60.0|\n",
      "|    50%|               212323|               110|                 10|             511.0|          43546.0|              4.0|            1347.0|                null|             -9.0|\n",
      "|    75%|               274216|               166|                 10|             877.0|          56983.0|              7.0|            1710.0|                null|             -5.0|\n",
      "|    max|               336251|               227|                 12|            1061.0|          70510.0|              7.0|             999.0|         Sep 30,2015|          67368.0|\n",
      "+-------+---------------------+------------------+-------------------+------------------+-----------------+-----------------+------------------+--------------------+-----------------+\n",
      "\n"
     ]
    },
    {
     "data": {
      "text/plain": [
       "'\\n    It seems that every column has data but some of \\n    them has outliers, like the column \"Cantidad\" \\n    which its minimum value is -360.0 and its maximum \\n    is 67368.0. Of course, it will be checked later. \\n'"
      ]
     },
     "execution_count": 11,
     "metadata": {},
     "output_type": "execute_result"
    }
   ],
   "source": [
    "movimientosCopia.summary().show() \n",
    "\n",
    "\"\"\"\n",
    "    It seems that every column has data but some of \n",
    "    them has outliers, like the column \"Cantidad\" \n",
    "    which its minimum value is -360.0 and its maximum \n",
    "    is 67368.0. Of course, it will be checked later. \n",
    "\"\"\""
   ]
  },
  {
   "cell_type": "code",
   "execution_count": 12,
   "metadata": {},
   "outputs": [
    {
     "data": {
      "text/plain": [
       "{'whiskers': [<matplotlib.lines.Line2D at 0x28f81dfbf48>,\n",
       "  <matplotlib.lines.Line2D at 0x28f81dfb8c8>],\n",
       " 'caps': [<matplotlib.lines.Line2D at 0x28f81dfb7c8>,\n",
       "  <matplotlib.lines.Line2D at 0x28f81dfb848>],\n",
       " 'boxes': [<matplotlib.lines.Line2D at 0x28ff6610948>],\n",
       " 'medians': [<matplotlib.lines.Line2D at 0x28ffd4eba88>],\n",
       " 'fliers': [<matplotlib.lines.Line2D at 0x28ffd4eb1c8>],\n",
       " 'means': []}"
      ]
     },
     "execution_count": 12,
     "metadata": {},
     "output_type": "execute_result"
    }
   ],
   "source": [
    "fig1, ax1 = plt.subplots()\n",
    "ax1.set_title('Cantidad')\n",
    "ax1.boxplot(np.array(movimientosCopia.select('Cantidad').collect()))"
   ]
  },
  {
   "cell_type": "code",
   "execution_count": 13,
   "metadata": {},
   "outputs": [],
   "source": [
    "cantidad_list = movimientosCopia.select('Cantidad').rdd.flatMap(lambda x: x).collect()\n",
    "\n",
    "# Plotting a histogram\n",
    "plt.figure(figsize=(10,6))\n",
    "plt.hist(cantidad_list, bins=50, edgecolor='black', alpha=0.7)\n",
    "plt.title('Distribution of Cantidad')\n",
    "plt.xlabel('Cantidad')\n",
    "plt.ylabel('Frequency')\n",
    "plt.grid(True)\n",
    "plt.show()\n",
    "\n",
    "# Plotting values <100 \n",
    "plt.figure(figsize=(10,6))\n",
    "plt.hist([x for x in cantidad_list if x < 100], bins=50, edgecolor='black', alpha=0.7)\n",
    "plt.title('Distribution of Cantidad (Zoomed In)')\n",
    "plt.xlabel('Cantidad')\n",
    "plt.ylabel('Frequency')\n",
    "plt.grid(True)\n",
    "plt.show() \n",
    "\n",
    "# Plotting values >1 and values <100 \n",
    "plt.figure(figsize=(10,6))\n",
    "plt.hist([x for x in cantidad_list if x < 100 and x > 0], bins=50, edgecolor='black', alpha=0.7)\n",
    "plt.title('Distribution of Cantidad (Zoomed In) values >1 and values <100 ')\n",
    "plt.xlabel('Cantidad')\n",
    "plt.ylabel('Frequency')\n",
    "plt.grid(True)\n",
    "plt.show()\n",
    "\n",
    "# Plotting values with log scale  \n",
    "plt.figure(figsize=(10,6))\n",
    "plt.hist(cantidad_list, bins=50, edgecolor='black', alpha=0.7, log=True)\n",
    "plt.title('Distribution of Cantidad log scale ')\n",
    "plt.xlabel('Cantidad')\n",
    "plt.ylabel('Frequency')\n",
    "plt.grid(True)\n",
    "plt.show()"
   ]
  },
  {
   "cell_type": "code",
   "execution_count": 14,
   "metadata": {},
   "outputs": [
    {
     "data": {
      "text/plain": [
       "\"\\n    Considering these graphs, it's unusual to observe negative values. Additionally, \\n    there appears to be a distinction between users who purchase only a few items and \\n    those who buy a large number of products. It's worth noting that approximately \\n    25% of the data falls above -5.0, while the range for 0% to 75% of the values is \\n    between -360 and -5. This distribution is less than ideal, especially given the \\n    presence of negative values.\\n\""
      ]
     },
     "execution_count": 14,
     "metadata": {},
     "output_type": "execute_result"
    }
   ],
   "source": [
    "\"\"\"\n",
    "    Considering these graphs, it's unusual to observe negative values. Additionally, \n",
    "    there appears to be a distinction between users who purchase only a few items and \n",
    "    those who buy a large number of products. It's worth noting that approximately \n",
    "    25% of the data falls above -5.0, while the range for 0% to 75% of the values is \n",
    "    between -360 and -5. This distribution is less than ideal, especially given the \n",
    "    presence of negative values.\n",
    "\"\"\""
   ]
  },
  {
   "cell_type": "code",
   "execution_count": 15,
   "metadata": {},
   "outputs": [
    {
     "name": "stdout",
     "output_type": "stream",
     "text": [
      "Number of total rows: 204292\n",
      "Number of '' rows: 197182\n",
      "% of duplicated rows: 0.8500528655062362\n"
     ]
    },
    {
     "data": {
      "text/plain": [
       "<AxesSubplot:>"
      ]
     },
     "execution_count": 15,
     "metadata": {},
     "output_type": "execute_result"
    }
   ],
   "source": [
    "import missingno as msno \n",
    "print(f\"Number of total rows: {movimientosCopia.count()}\") \n",
    "print(f\"Number of '' rows: {contar_vacios_str(movimientosCopia, False)[0]}\") \n",
    "print(f\"% of duplicated rows: {movimientosCopia.distinct().count()/movimientosCopia.count()}\") \n",
    "# Patterns of data completion \n",
    "msno.matrix(movimientosCopia.toPandas()) "
   ]
  },
  {
   "cell_type": "code",
   "execution_count": 16,
   "metadata": {},
   "outputs": [
    {
     "name": "stdout",
     "output_type": "stream",
     "text": [
      "TransaccionProductoID: 0.00% missing\n",
      "ProductoID: 0.00% missing\n",
      "TipoTransaccionID: 0.00% missing\n",
      "ClienteID: 0.00% missing\n",
      "InvoiceID: 0.00% missing\n",
      "ProveedorID: 0.00% missing\n",
      "OrdenDeCompraID: 0.00% missing\n",
      "FechaTransaccion: 0.00% missing\n",
      "Cantidad: 0.00% missing\n"
     ]
    }
   ],
   "source": [
    "missing_percentage = movimientosCopia.toPandas().isnull().mean() * 100\n",
    "\n",
    "for column, percentage in missing_percentage.items():\n",
    "    print(f\"{column}: {percentage:.2f}% missing\")"
   ]
  },
  {
   "cell_type": "code",
   "execution_count": 17,
   "metadata": {},
   "outputs": [
    {
     "name": "stdout",
     "output_type": "stream",
     "text": [
      "Unique values on each column: \n",
      "{'ProductoID': 227, 'TipoTransaccionID': 3, 'ClienteID': 664, 'InvoiceID': 51831, 'ProveedorID': 4, 'OrdenDeCompraID': 1472, 'FechaTransaccion': 2155}\n",
      "Date range: \n",
      "+--------------------+------------+\n",
      "|        Fecha Minima|Fecha Maxima|\n",
      "+--------------------+------------+\n",
      "|2013-12-31 07:00:...| Sep 30,2015|\n",
      "+--------------------+------------+\n",
      "\n"
     ]
    }
   ],
   "source": [
    "df_summary = movimientosCopia.describe()\n",
    "\n",
    "# Counting unique values \n",
    "unique_counts = {\n",
    "    'ProductoID': movimientosCopia.select('ProductoID').distinct().count(),\n",
    "    'TipoTransaccionID': movimientosCopia.select('TipoTransaccionID').distinct().count(),\n",
    "    'ClienteID': movimientosCopia.select('ClienteID').distinct().count(),\n",
    "    'InvoiceID': movimientosCopia.select('InvoiceID').distinct().count(),\n",
    "    'ProveedorID': movimientosCopia.select('ProveedorID').distinct().count(),\n",
    "    'OrdenDeCompraID': movimientosCopia.select('OrdenDeCompraID').distinct().count(),\n",
    "    'FechaTransaccion': movimientosCopia.select('FechaTransaccion').distinct().count()\n",
    "}\n",
    "\n",
    "# Date range \n",
    "date_range = movimientosCopia.agg(\n",
    "    functions.min('FechaTransaccion').alias('Fecha Minima'),\n",
    "    functions.max('FechaTransaccion').alias('Fecha Maxima')\n",
    ")\n",
    "\n",
    "print(\"Unique values on each column: \") \n",
    "print(unique_counts) \n",
    "print(\"Date range: \") \n",
    "date_range.show() "
   ]
  },
  {
   "cell_type": "code",
   "execution_count": 18,
   "metadata": {},
   "outputs": [
    {
     "data": {
      "text/plain": [
       "array([[<AxesSubplot:title={'center':'Cantidad'}>]], dtype=object)"
      ]
     },
     "execution_count": 18,
     "metadata": {},
     "output_type": "execute_result"
    }
   ],
   "source": [
    "#para valores extremos(subir a calidad)\n",
    "movimientosCopia.toPandas().hist(column='Cantidad')"
   ]
  },
  {
   "cell_type": "code",
   "execution_count": 19,
   "metadata": {},
   "outputs": [],
   "source": [
    "import pandas as pd \n",
    "import seaborn as sns \n",
    "# 1. Distribution of `Cantidad`\n",
    "df_cantidad = movimientosCopia.select(\"Cantidad\").toPandas()\n",
    "plt.figure(figsize=(10, 6))\n",
    "sns.histplot(df_cantidad, bins=30, kde=True)\n",
    "plt.title('Distribution of Cantidad')\n",
    "plt.show()\n",
    "\n",
    "# 3. Top Products by Transactions\n",
    "df_product = movimientosCopia.groupBy('ProductoID').count().sort('count', ascending=False).limit(10).toPandas()\n",
    "plt.figure(figsize=(10, 6))\n",
    "sns.barplot(data=df_product, x='ProductoID', y='count')\n",
    "plt.title('Top 10 Products by Transactions')\n",
    "plt.show()\n",
    "\n",
    "# 4. Top Clients by Transactions\n",
    "df_client = movimientosCopia.groupBy('ClienteID').count().sort('count', ascending=False).limit(10).toPandas()\n",
    "plt.figure(figsize=(10, 6))\n",
    "sns.barplot(data=df_client, x='ClienteID', y='count')\n",
    "plt.title('Top 10 Clients by Transactions')\n",
    "plt.show()\n",
    "\n",
    "# 5. Correlation Heatmap\n",
    "# Since we're just working with a few columns, let's compute correlations on them\n",
    "numerical_columns = ['TransaccionProductoID', 'ProductoID', 'TipoTransaccionID', 'ClienteID', 'InvoiceID', 'Cantidad']\n",
    "df_corr = movimientosCopia.select(numerical_columns).toPandas().corr()\n",
    "plt.figure(figsize=(10, 6))\n",
    "sns.heatmap(df_corr, annot=True, cmap='coolwarm', center=0)\n",
    "plt.title('Correlation Heatmap')\n",
    "plt.show()"
   ]
  },
  {
   "cell_type": "code",
   "execution_count": 20,
   "metadata": {},
   "outputs": [
    {
     "name": "stdout",
     "output_type": "stream",
     "text": [
      "+--------------------+----+----+----+----+\n",
      "|    FechaTransaccion|    | 1.0| 4.0| 7.0|\n",
      "+--------------------+----+----+----+----+\n",
      "|2014-08-28 07:00:...|null|null|   5|   1|\n",
      "|2014-09-19 07:00:...|null|null|   4|   1|\n",
      "|         Feb 27,2014|  77|null|null|null|\n",
      "|2014-11-19 07:00:...|null|null|   6|   3|\n",
      "|2015-02-18 07:00:...|null|null|   2|   2|\n",
      "|2015-10-27 07:00:...|null|null|   7|   3|\n",
      "|2016-01-27 07:00:...|null|null|   4|   4|\n",
      "|2014-06-26 12:00:...| 214|null|null|null|\n",
      "|2015-02-12 07:00:...|null|null|   5|   1|\n",
      "|2014-11-28 12:00:...| 139|null|null|null|\n",
      "|2015-01-16 07:00:...|null|null|   5|   2|\n",
      "|         Sep 21,2015| 117|null|   2|   1|\n",
      "|2014-04-18 12:00:...| 201|null|null|null|\n",
      "|         Jul 26,2014|  69|null|null|null|\n",
      "|         May 14,2016|  64|null|null|null|\n",
      "|         Aug 22,2015|  41|null|null|null|\n",
      "|         Jan 03,2015|  26|null|null|null|\n",
      "|         Mar 25,2015| 115|null|null|   1|\n",
      "|2014-11-20 12:00:...| 101|null|null|null|\n",
      "|         Oct 14,2014|  84|null|   1|null|\n",
      "+--------------------+----+----+----+----+\n",
      "only showing top 20 rows\n",
      "\n"
     ]
    }
   ],
   "source": [
    "\"\"\"\n",
    "    Getting those times when each supplier took part of an transaction \n",
    "\"\"\"\n",
    "movimientosCopia.groupBy('FechaTransaccion').pivot('ProveedorID').count().show()"
   ]
  },
  {
   "cell_type": "code",
   "execution_count": 21,
   "metadata": {},
   "outputs": [
    {
     "data": {
      "text/html": [
       "<style type=\"text/css\">\n",
       "#T_827fb_row0_col0, #T_827fb_row1_col1, #T_827fb_row2_col2, #T_827fb_row3_col3, #T_827fb_row4_col4, #T_827fb_row5_col5 {\n",
       "  background-color: #b40426;\n",
       "  color: #f1f1f1;\n",
       "}\n",
       "#T_827fb_row0_col1, #T_827fb_row3_col0 {\n",
       "  background-color: #4257c9;\n",
       "  color: #f1f1f1;\n",
       "}\n",
       "#T_827fb_row0_col2, #T_827fb_row1_col4 {\n",
       "  background-color: #a7c5fe;\n",
       "  color: #000000;\n",
       "}\n",
       "#T_827fb_row0_col3 {\n",
       "  background-color: #88abfd;\n",
       "  color: #000000;\n",
       "}\n",
       "#T_827fb_row0_col4 {\n",
       "  background-color: #d55042;\n",
       "  color: #f1f1f1;\n",
       "}\n",
       "#T_827fb_row0_col5 {\n",
       "  background-color: #aac7fd;\n",
       "  color: #000000;\n",
       "}\n",
       "#T_827fb_row1_col0 {\n",
       "  background-color: #4055c8;\n",
       "  color: #f1f1f1;\n",
       "}\n",
       "#T_827fb_row1_col2 {\n",
       "  background-color: #aec9fc;\n",
       "  color: #000000;\n",
       "}\n",
       "#T_827fb_row1_col3 {\n",
       "  background-color: #7ea1fa;\n",
       "  color: #f1f1f1;\n",
       "}\n",
       "#T_827fb_row1_col5 {\n",
       "  background-color: #a2c1ff;\n",
       "  color: #000000;\n",
       "}\n",
       "#T_827fb_row2_col0, #T_827fb_row2_col3, #T_827fb_row2_col4, #T_827fb_row3_col1, #T_827fb_row4_col2, #T_827fb_row4_col5 {\n",
       "  background-color: #3b4cc0;\n",
       "  color: #f1f1f1;\n",
       "}\n",
       "#T_827fb_row2_col1, #T_827fb_row5_col1 {\n",
       "  background-color: #455cce;\n",
       "  color: #f1f1f1;\n",
       "}\n",
       "#T_827fb_row2_col5 {\n",
       "  background-color: #dc5d4a;\n",
       "  color: #f1f1f1;\n",
       "}\n",
       "#T_827fb_row3_col2 {\n",
       "  background-color: #6687ed;\n",
       "  color: #f1f1f1;\n",
       "}\n",
       "#T_827fb_row3_col4 {\n",
       "  background-color: #cad8ef;\n",
       "  color: #000000;\n",
       "}\n",
       "#T_827fb_row3_col5 {\n",
       "  background-color: #6180e9;\n",
       "  color: #f1f1f1;\n",
       "}\n",
       "#T_827fb_row4_col0 {\n",
       "  background-color: #e16751;\n",
       "  color: #f1f1f1;\n",
       "}\n",
       "#T_827fb_row4_col1 {\n",
       "  background-color: #3d50c3;\n",
       "  color: #f1f1f1;\n",
       "}\n",
       "#T_827fb_row4_col3 {\n",
       "  background-color: #abc8fd;\n",
       "  color: #000000;\n",
       "}\n",
       "#T_827fb_row5_col0 {\n",
       "  background-color: #4c66d6;\n",
       "  color: #f1f1f1;\n",
       "}\n",
       "#T_827fb_row5_col2 {\n",
       "  background-color: #d95847;\n",
       "  color: #f1f1f1;\n",
       "}\n",
       "#T_827fb_row5_col3 {\n",
       "  background-color: #445acc;\n",
       "  color: #f1f1f1;\n",
       "}\n",
       "#T_827fb_row5_col4 {\n",
       "  background-color: #4961d2;\n",
       "  color: #f1f1f1;\n",
       "}\n",
       "</style>\n",
       "<table id=\"T_827fb_\">\n",
       "  <thead>\n",
       "    <tr>\n",
       "      <th class=\"blank level0\" >&nbsp;</th>\n",
       "      <th class=\"col_heading level0 col0\" >TransaccionProductoID</th>\n",
       "      <th class=\"col_heading level0 col1\" >ProductoID</th>\n",
       "      <th class=\"col_heading level0 col2\" >TipoTransaccionID</th>\n",
       "      <th class=\"col_heading level0 col3\" >ClienteID</th>\n",
       "      <th class=\"col_heading level0 col4\" >InvoiceID</th>\n",
       "      <th class=\"col_heading level0 col5\" >Cantidad</th>\n",
       "    </tr>\n",
       "  </thead>\n",
       "  <tbody>\n",
       "    <tr>\n",
       "      <th id=\"T_827fb_level0_row0\" class=\"row_heading level0 row0\" >TransaccionProductoID</th>\n",
       "      <td id=\"T_827fb_row0_col0\" class=\"data row0 col0\" >1.000000</td>\n",
       "      <td id=\"T_827fb_row0_col1\" class=\"data row0 col1\" >0.017905</td>\n",
       "      <td id=\"T_827fb_row0_col2\" class=\"data row0 col2\" >-0.001819</td>\n",
       "      <td id=\"T_827fb_row0_col3\" class=\"data row0 col3\" >0.021868</td>\n",
       "      <td id=\"T_827fb_row0_col4\" class=\"data row0 col4\" >0.859235</td>\n",
       "      <td id=\"T_827fb_row0_col5\" class=\"data row0 col5\" >0.060616</td>\n",
       "    </tr>\n",
       "    <tr>\n",
       "      <th id=\"T_827fb_level0_row1\" class=\"row_heading level0 row1\" >ProductoID</th>\n",
       "      <td id=\"T_827fb_row1_col0\" class=\"data row1 col0\" >0.017905</td>\n",
       "      <td id=\"T_827fb_row1_col1\" class=\"data row1 col1\" >1.000000</td>\n",
       "      <td id=\"T_827fb_row1_col2\" class=\"data row1 col2\" >0.028463</td>\n",
       "      <td id=\"T_827fb_row1_col3\" class=\"data row1 col3\" >-0.009326</td>\n",
       "      <td id=\"T_827fb_row1_col4\" class=\"data row1 col4\" >0.001007</td>\n",
       "      <td id=\"T_827fb_row1_col5\" class=\"data row1 col5\" >0.028805</td>\n",
       "    </tr>\n",
       "    <tr>\n",
       "      <th id=\"T_827fb_level0_row2\" class=\"row_heading level0 row2\" >TipoTransaccionID</th>\n",
       "      <td id=\"T_827fb_row2_col0\" class=\"data row2 col0\" >-0.001819</td>\n",
       "      <td id=\"T_827fb_row2_col1\" class=\"data row2 col1\" >0.028463</td>\n",
       "      <td id=\"T_827fb_row2_col2\" class=\"data row2 col2\" >1.000000</td>\n",
       "      <td id=\"T_827fb_row2_col3\" class=\"data row2 col3\" >-0.277915</td>\n",
       "      <td id=\"T_827fb_row2_col4\" class=\"data row2 col4\" >-0.484808</td>\n",
       "      <td id=\"T_827fb_row2_col5\" class=\"data row2 col5\" >0.833650</td>\n",
       "    </tr>\n",
       "    <tr>\n",
       "      <th id=\"T_827fb_level0_row3\" class=\"row_heading level0 row3\" >ClienteID</th>\n",
       "      <td id=\"T_827fb_row3_col0\" class=\"data row3 col0\" >0.021868</td>\n",
       "      <td id=\"T_827fb_row3_col1\" class=\"data row3 col1\" >-0.009326</td>\n",
       "      <td id=\"T_827fb_row3_col2\" class=\"data row3 col2\" >-0.277915</td>\n",
       "      <td id=\"T_827fb_row3_col3\" class=\"data row3 col3\" >1.000000</td>\n",
       "      <td id=\"T_827fb_row3_col4\" class=\"data row3 col4\" >0.154670</td>\n",
       "      <td id=\"T_827fb_row3_col5\" class=\"data row3 col5\" >-0.234709</td>\n",
       "    </tr>\n",
       "    <tr>\n",
       "      <th id=\"T_827fb_level0_row4\" class=\"row_heading level0 row4\" >InvoiceID</th>\n",
       "      <td id=\"T_827fb_row4_col0\" class=\"data row4 col0\" >0.859235</td>\n",
       "      <td id=\"T_827fb_row4_col1\" class=\"data row4 col1\" >0.001007</td>\n",
       "      <td id=\"T_827fb_row4_col2\" class=\"data row4 col2\" >-0.484808</td>\n",
       "      <td id=\"T_827fb_row4_col3\" class=\"data row4 col3\" >0.154670</td>\n",
       "      <td id=\"T_827fb_row4_col4\" class=\"data row4 col4\" >1.000000</td>\n",
       "      <td id=\"T_827fb_row4_col5\" class=\"data row4 col5\" >-0.409633</td>\n",
       "    </tr>\n",
       "    <tr>\n",
       "      <th id=\"T_827fb_level0_row5\" class=\"row_heading level0 row5\" >Cantidad</th>\n",
       "      <td id=\"T_827fb_row5_col0\" class=\"data row5 col0\" >0.060616</td>\n",
       "      <td id=\"T_827fb_row5_col1\" class=\"data row5 col1\" >0.028805</td>\n",
       "      <td id=\"T_827fb_row5_col2\" class=\"data row5 col2\" >0.833650</td>\n",
       "      <td id=\"T_827fb_row5_col3\" class=\"data row5 col3\" >-0.234709</td>\n",
       "      <td id=\"T_827fb_row5_col4\" class=\"data row5 col4\" >-0.409633</td>\n",
       "      <td id=\"T_827fb_row5_col5\" class=\"data row5 col5\" >1.000000</td>\n",
       "    </tr>\n",
       "  </tbody>\n",
       "</table>\n"
      ],
      "text/plain": [
       "<pandas.io.formats.style.Styler at 0x28ffb156808>"
      ]
     },
     "execution_count": 21,
     "metadata": {},
     "output_type": "execute_result"
    }
   ],
   "source": [
    "corr = movimientosCopia.toPandas().corr(method='pearson')\n",
    "corr.style.background_gradient(cmap='coolwarm')"
   ]
  },
  {
   "cell_type": "markdown",
   "metadata": {
    "id": "-axExLnhPn3g"
   },
   "source": [
    "### Análisis de calidad de datos"
   ]
  },
  {
   "cell_type": "markdown",
   "metadata": {},
   "source": [
    "##### Unicidad y validez"
   ]
  },
  {
   "cell_type": "code",
   "execution_count": 22,
   "metadata": {},
   "outputs": [
    {
     "name": "stdout",
     "output_type": "stream",
     "text": [
      "Number of distinct rows: 173659\n",
      "Number of total rows: 204292\n"
     ]
    },
    {
     "data": {
      "text/plain": [
       "'\\n    In terms of validity, the dates do not entirely have a single format, \\n    just as there are empty fields that could be important, such as \\n    SupplierID and PurchaseOrderID, which could be important for some \\n    cross-checking of information or subsequent analysis.\\n'"
      ]
     },
     "execution_count": 22,
     "metadata": {},
     "output_type": "execute_result"
    }
   ],
   "source": [
    "print(f\"Number of distinct rows: {movimientosCopia.distinct().count()}\")\n",
    "print(f\"Number of total rows: {movimientosCopia.count()}\") \n",
    "\n",
    "\"\"\" \n",
    "    One could think that every value in TransaccionProductoID is unique \n",
    "    and different, but according the upper analysis, there are duplicated \n",
    "    values, like 327158. So uniqueness is not fulfilled. \n",
    "\"\"\"\n",
    "\n",
    "\"\"\"\n",
    "    In terms of validity, the dates do not entirely have a single format, \n",
    "    just as there are empty fields that could be important, such as \n",
    "    SupplierID and PurchaseOrderID, which could be important for some \n",
    "    cross-checking of information or subsequent analysis.\n",
    "\"\"\""
   ]
  },
  {
   "cell_type": "markdown",
   "metadata": {},
   "source": [
    "##### Completitud y validez"
   ]
  },
  {
   "cell_type": "code",
   "execution_count": 23,
   "metadata": {
    "id": "-sUZP8wjPn3g"
   },
   "outputs": [
    {
     "name": "stdout",
     "output_type": "stream",
     "text": [
      "NULL Values: \n",
      "'' Values: \n",
      "Number of \"\" values for column ProveedorID: 197182\n",
      "Number of \"\" values for column OrdenDeCompraID: 197182\n",
      "\n",
      " Cardinality\n",
      "{'TransaccionProductoID': 173659}\n"
     ]
    },
    {
     "data": {
      "text/plain": [
       "'\\n    Checking the columns with \"\" values, just ProveedorID and OrdenDeCompraID \\n    have columns with missing data. It needs to be asked to the client if \\n    this is Ok, because it seems important to have the OrdenDeCompraID value \\n    and its provider too! \\n    \\n    Regarding cardinality, just TransaccionProductoID is notable, but \\n    it seems to be Okay since it\\'s a unique ID. \\n'"
      ]
     },
     "execution_count": 23,
     "metadata": {},
     "output_type": "execute_result"
    }
   ],
   "source": [
    "print(\"NULL Values: \")\n",
    "empty_columns_movimientosCopia = contar_vacios(movimientosCopia) \n",
    "print(\"'' Values: \")\n",
    "empty_columns_movimientosCopia_str = contar_vacios_str(movimientosCopia)\n",
    "\n",
    "print(\"\\n Cardinality\")\n",
    "movimientosCopia_c = cardinalidad(movimientosCopia) \n",
    "print(f\"{movimientosCopia_c}\") \n",
    "\n",
    "\"\"\"\n",
    "    Checking the columns with \"\" values, just ProveedorID and OrdenDeCompraID \n",
    "    have columns with missing data. It needs to be asked to the client if \n",
    "    this is Ok, because it seems important to have the OrdenDeCompraID value \n",
    "    and its provider too! \n",
    "    \n",
    "    Regarding cardinality, just TransaccionProductoID is notable, but \n",
    "    it seems to be Okay since it's a unique ID. \n",
    "\"\"\""
   ]
  },
  {
   "cell_type": "markdown",
   "metadata": {},
   "source": [
    "##### Consistencia¶"
   ]
  },
  {
   "cell_type": "code",
   "execution_count": 24,
   "metadata": {},
   "outputs": [
    {
     "data": {
      "text/plain": [
       "'\\n    As mentioned before on Análisis descriptivo section, it seems that \\n    there are negative values in \"Cantidad\" column. It is found that it \\n    is necessary to consult with the client about these values and try \\n    to give us a better understanding about this situation so we could \\n    check if there are some inconsistencies with this column or maybe \\n    another rule that we aren\\'t expecting or taking in count. Also, it \\n    could give improve the boksplot graph once it\\'s fixed if needed. \\n'"
      ]
     },
     "execution_count": 24,
     "metadata": {},
     "output_type": "execute_result"
    }
   ],
   "source": [
    "\"\"\"\n",
    "    As mentioned before on Análisis descriptivo section, it seems that \n",
    "    there are negative values in \"Cantidad\" column. It is found that it \n",
    "    is necessary to consult with the client about these values and try \n",
    "    to give us a better understanding about this situation so we could \n",
    "    check if there are some inconsistencies with this column or maybe \n",
    "    another rule that we aren't expecting or taking in count. Also, it \n",
    "    could give improve the boksplot graph once it's fixed if needed. \n",
    "\"\"\""
   ]
  },
  {
   "cell_type": "code",
   "execution_count": 25,
   "metadata": {},
   "outputs": [],
   "source": [
    "plt.show()"
   ]
  },
  {
   "cell_type": "markdown",
   "metadata": {
    "id": "YfSMeXZQPn3g"
   },
   "source": [
    "### Conclusiones"
   ]
  },
  {
   "cell_type": "code",
   "execution_count": null,
   "metadata": {
    "id": "iLIyH36rPn3g"
   },
   "outputs": [],
   "source": [
    "\n",
    "**Conclusiones generales:**\n",
    "\n",
    "1. En la tabla WWImportersTransactional.movimientosCopia tenemos información relacionada a las transacciones de importación/distribución junto a algunos detalles como el proveedor, el cliente, el producto, el tipo de transacción, fecha, cantidad y entre otros. \n",
    "\n",
    "**Conclusiones de reglas de negocio:**\n",
    "\n",
    "1. Casi que ninguna de las reglas de negocio se cumple. En el desarrollo de estas se explicó a detalle el porqué. Aunque podría decirse que la primera se puede interpretar como verdadera, ya que no rompe necesariamente el límite dado. Por otro lado, la segunda es mayormente falsa pero tiene un poco de verdadera, ya que sí tiene transacciones en 2013, solo que corresponden al último día de ese año.\n",
    "\n",
    "**Conclusiones de calidad:** \n",
    "\n",
    "1. Se puede observar que el campo de **Cantidad** tiene valores negativos. Podría decirse que esto se debe a que se importa y distribuyen productos, por lo que se podría ver de varias maneras, aunque la más interesante sería que los valores positivos correspondan a las importaciones y los negativos a las de distribución, ya que las positivas tienen un valor alto, correspondiendo a las adquisiciones grandes de productos y las negativas no tienen la misma distribución, correspondiente a las compras por parte de los clientes. Además de esto, el mismo producto se presenta en ambas circunstancias, como el 193, que aparece con el valor más alto de Cantidad y también con negativos.\n",
    "2. ¿Por qué hay valores vacíos en campos que podrían ser importantes, tales como OrdenDeCompraID y el proveedorID y, más aún que esto sucede al mismo tiempo en ambas columnas. \n",
    "3. Como se mencionó anteriormente en la sección 'Análisis Descriptivo', parece que hay valores negativos en la columna 'Cantidad'. Es fundamental consultar con el cliente sobre estos valores para comprender mejor la situación. Esto nos permitirá verificar posibles inconsistencias dentro de esta columna o descubrir reglas inesperadas que quizás no se hayan considerado. Abordar este problema también puede conducir a mejoras en el gráfico de diagrama de caja, si es necesario.\n",
    "4. En términos de validez, las fechas no tienen un formato consistente. Además, hay campos vacíos que podrían ser cruciales, como SupplierID y PurchaseOrderID. Estos campos podrían desempeñar un papel importante en la verificación cruzada de información o en la realización de análisis posteriores.\n",
    "5. Se podría pensar que cada valor en TransaccionProductoID es único y diferente, pero según el análisis superior, hay valores duplicados, como 327158, por lo que no se cumple la unicidad.\n",
    "6. Parece que cada columna tiene datos, pero algunas tienen valores atípicos. Por ejemplo, la columna 'Cantidad' tiene un valor mínimo de -360,0 y un valor máximo de 67368,0. Por supuesto, esto se comprobará más adelante.\n",
    "7. Hay 197182 filas con valores vacíos. \n",
    "\n",
    "**Usando herramientas:**\n",
    "\n",
    "Seccion general del reporte: \n",
    "1. Tenemos 10 variables y 204292 registros, de las cuales todas son numéricas pero la mayoría corresponden a IDs, posiblemente es una tabla relacional pero sin ser normalizada totalmente. \n",
    "\n",
    "2. Hay 197182 filas vacías y corresponden a las columnas OrdenDeCompraID y el proveedorID\n",
    "\n",
    "4. Hay registros duplicados\n",
    "\n",
    "Sección de variables del reporte: \n",
    "    \n",
    "1. X Considerando estos gráficos, es inusual observar valores negativos. Además, parece haber una distinción entre los usuarios que compran sólo unos pocos artículos y los que compran una gran cantidad de productos. Vale la pena señalar que aproximadamente el 25 % de los datos están por encima de -5,0, mientras que el rango del 0 % al 75 % de los valores está entre -360 y -5. Esta distribución no es ideal, especialmente dada la presencia de valores negativos.\n",
    "\n",
    "2. Para la variable Cantidad se observó una distribución muy poco usual, teniendo una distribución casi que mayoritaria en sus cuartiles menores al 75%. \n",
    "\n",
    "3. La variable TransaccionProductoID tiene alta cardinalidad, pero es OK desde que la transacción debería ser única. Además, no brinda mucho aporte en el modelo. \n",
    "\n",
    "Sección de correlación:\n",
    "\n",
    "1. Parece haber algunas correlaciones algo altas en las últimas columnas pero no deberían ser consideradas porque son columnas numéricas y con identificadores que se suponen únicos o no muy repetidos, por lo que la correlación no es muy importante para el análisis de esta tabla. \n",
    "\n",
    "**Conclusiones de consultoria**\n",
    "\n",
    "Teniendo en cuenta este análisis, no será posible empezar con la solución hasta aclarar los temas con dudas en este paso, más que todo por la duda con el campo de Cantidad."
   ]
  },
  {
   "cell_type": "markdown",
   "metadata": {
    "id": "xsIHBKMTPn3g"
   },
   "source": [
    "## Cierre\n",
    "\n",
    "Completado este tutorial ya sabrá la forma básica de utilizar PySpark. Ya sabe cómo crear DataFrames a partir de datos existentes, cómo seleccionar columnas o filas de este Dataframe, cómo rellenar espacios vacíos, cómo aplicar sus propias funciones a estos datos y los más importante, cómo utilizarlo para realizar una fase de entendimiento de datos.\n",
    "\n",
    "Las tablas detallesOrdenesCopia y OrdenesCopia estaran disponibles en caso de que desee repetir este tutorial cuantas veces considere necesario"
   ]
  },
  {
   "cell_type": "markdown",
   "metadata": {
    "id": "GV2OfMqRPn3g"
   },
   "source": [
    "## 7. Información adicional\n",
    "\n",
    "Si quiere conocer más sobre PySpark la guía más detallada es la documentación oficial, la cual puede encontrar acá: https://spark.apache.org/docs/latest/api/python/index.html <br>\n",
    "Para ir directamente a la documentación de PySpark SQL, donde está la información sobre los DataFrames: https://spark.apache.org/docs/latest/api/python/pyspark.sql.html <br>\n",
    "\n",
    "El Capítulo 2 del libro <i>Learn PySpark : Build Python-based Machine Learning and Deep Learning Models, New York: Apress. 2019</i> de Pramod Singh contiene muchos ejemplos útiles, puede encontrarlo en la biblioteca virtual de la universidad."
   ]
  },
  {
   "cell_type": "markdown",
   "metadata": {
    "id": "iKeHXm96Pn3h"
   },
   "source": [
    "## 8. Preguntas frecuentes\n",
    "\n",
    "1. Si en el cálculo de los histogramas o en una de sus UDF obtiene el error: TypeError: unsupported operand type(s) for *: 'decimal.Decimal' and 'float' verifique los tipos de las columnas que está intentando operar y, si alguna es double, conviértala a float.\n",
    "\n",
    "2. En algunos casos, encontrará también información sobre <i>Pandas_UDF</i>. <i>Pandas_UDF</i> son también User Defined Functions, por lo general los Pandas UDF son más eficientes que los UDF tradicionales, sin embargo, hay un bug con la versión de PySpark y de Java que se está usando, lo que previene la utilización de Pandas_UDF.\n",
    "\n",
    "3. Si al ejecutar la configuración de la sesión Spark le aparece el error <i>Cannot run multiple SparkContexts at once; existing SparkContext(app=pyspark-shell, master=local[*])</i> Reinicie el kernel y vuelva a ejecutar\n"
   ]
  },
  {
   "cell_type": "code",
   "execution_count": null,
   "metadata": {
    "id": "0JxEJmKnPn3h"
   },
   "outputs": [],
   "source": []
  }
 ],
 "metadata": {
  "colab": {
   "collapsed_sections": [
    "qxN27II0Pn3T",
    "GnAScmClPn3W",
    "UuZspay3Pn3Z",
    "ZHLs1H0hPn3b",
    "QgkzeSm4Pn3b",
    "LZyQcqCvPn3c",
    "eDf54JyKPn3d",
    "ltTluhtIPn3e",
    "IPhtXcD1Pn3g",
    "-axExLnhPn3g",
    "YfSMeXZQPn3g"
   ],
   "name": "MISW-ETL-Entendimiento.ipynb",
   "provenance": []
  },
  "kernelspec": {
   "display_name": "Python 3 (ipykernel)",
   "language": "python",
   "name": "python3"
  },
  "language_info": {
   "codemirror_mode": {
    "name": "ipython",
    "version": 3
   },
   "file_extension": ".py",
   "mimetype": "text/x-python",
   "name": "python",
   "nbconvert_exporter": "python",
   "pygments_lexer": "ipython3",
   "version": "3.7.13"
  },
  "toc-autonumbering": true,
  "toc-showcode": true
 },
 "nbformat": 4,
 "nbformat_minor": 4
}
